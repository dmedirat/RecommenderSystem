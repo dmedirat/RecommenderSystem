{
  "nbformat": 4,
  "nbformat_minor": 0,
  "metadata": {
    "colab": {
      "name": "CF.ipynb",
      "provenance": [],
      "collapsed_sections": [],
      "machine_shape": "hm"
    },
    "kernelspec": {
      "name": "python3",
      "display_name": "Python 3"
    },
    "accelerator": "GPU"
  },
  "cells": [
    {
      "cell_type": "code",
      "metadata": {
        "id": "pofN2aNN3tEb",
        "colab_type": "code",
        "colab": {}
      },
      "source": [
        "import pandas as pd\n",
        "import numpy as np\n",
        "import matplotlib.pyplot as plt"
      ],
      "execution_count": 0,
      "outputs": []
    },
    {
      "cell_type": "code",
      "metadata": {
        "id": "Jj8jCGeh4tKQ",
        "colab_type": "code",
        "colab": {}
      },
      "source": [
        "#links = pd.read_csv('links.csv')\n",
        "movies = pd.read_csv('movies.csv')\n",
        "ratings = pd.read_csv('ratings.csv')\n",
        "#tags = pd.read_csv('tags.csv')"
      ],
      "execution_count": 0,
      "outputs": []
    },
    {
      "cell_type": "code",
      "metadata": {
        "id": "vWfnQwdVyHFR",
        "colab_type": "code",
        "colab": {}
      },
      "source": [
        "newRatings = ratings.merge(movies, on = 'movieId')"
      ],
      "execution_count": 0,
      "outputs": []
    },
    {
      "cell_type": "code",
      "metadata": {
        "id": "_Pouh-7pytCa",
        "colab_type": "code",
        "outputId": "cbcdd026-6b66-467b-ce2b-fd91aaed6f07",
        "colab": {
          "base_uri": "https://localhost:8080/",
          "height": 203
        }
      },
      "source": [
        "newRatings.head()"
      ],
      "execution_count": 5,
      "outputs": [
        {
          "output_type": "execute_result",
          "data": {
            "text/html": [
              "<div>\n",
              "<style scoped>\n",
              "    .dataframe tbody tr th:only-of-type {\n",
              "        vertical-align: middle;\n",
              "    }\n",
              "\n",
              "    .dataframe tbody tr th {\n",
              "        vertical-align: top;\n",
              "    }\n",
              "\n",
              "    .dataframe thead th {\n",
              "        text-align: right;\n",
              "    }\n",
              "</style>\n",
              "<table border=\"1\" class=\"dataframe\">\n",
              "  <thead>\n",
              "    <tr style=\"text-align: right;\">\n",
              "      <th></th>\n",
              "      <th>userId</th>\n",
              "      <th>movieId</th>\n",
              "      <th>rating</th>\n",
              "      <th>timestamp</th>\n",
              "      <th>title</th>\n",
              "      <th>genres</th>\n",
              "    </tr>\n",
              "  </thead>\n",
              "  <tbody>\n",
              "    <tr>\n",
              "      <th>0</th>\n",
              "      <td>1</td>\n",
              "      <td>1</td>\n",
              "      <td>4.0</td>\n",
              "      <td>964982703</td>\n",
              "      <td>Toy Story (1995)</td>\n",
              "      <td>Adventure|Animation|Children|Comedy|Fantasy</td>\n",
              "    </tr>\n",
              "    <tr>\n",
              "      <th>1</th>\n",
              "      <td>5</td>\n",
              "      <td>1</td>\n",
              "      <td>4.0</td>\n",
              "      <td>847434962</td>\n",
              "      <td>Toy Story (1995)</td>\n",
              "      <td>Adventure|Animation|Children|Comedy|Fantasy</td>\n",
              "    </tr>\n",
              "    <tr>\n",
              "      <th>2</th>\n",
              "      <td>7</td>\n",
              "      <td>1</td>\n",
              "      <td>4.5</td>\n",
              "      <td>1106635946</td>\n",
              "      <td>Toy Story (1995)</td>\n",
              "      <td>Adventure|Animation|Children|Comedy|Fantasy</td>\n",
              "    </tr>\n",
              "    <tr>\n",
              "      <th>3</th>\n",
              "      <td>15</td>\n",
              "      <td>1</td>\n",
              "      <td>2.5</td>\n",
              "      <td>1510577970</td>\n",
              "      <td>Toy Story (1995)</td>\n",
              "      <td>Adventure|Animation|Children|Comedy|Fantasy</td>\n",
              "    </tr>\n",
              "    <tr>\n",
              "      <th>4</th>\n",
              "      <td>17</td>\n",
              "      <td>1</td>\n",
              "      <td>4.5</td>\n",
              "      <td>1305696483</td>\n",
              "      <td>Toy Story (1995)</td>\n",
              "      <td>Adventure|Animation|Children|Comedy|Fantasy</td>\n",
              "    </tr>\n",
              "  </tbody>\n",
              "</table>\n",
              "</div>"
            ],
            "text/plain": [
              "   userId  ...                                       genres\n",
              "0       1  ...  Adventure|Animation|Children|Comedy|Fantasy\n",
              "1       5  ...  Adventure|Animation|Children|Comedy|Fantasy\n",
              "2       7  ...  Adventure|Animation|Children|Comedy|Fantasy\n",
              "3      15  ...  Adventure|Animation|Children|Comedy|Fantasy\n",
              "4      17  ...  Adventure|Animation|Children|Comedy|Fantasy\n",
              "\n",
              "[5 rows x 6 columns]"
            ]
          },
          "metadata": {
            "tags": []
          },
          "execution_count": 5
        }
      ]
    },
    {
      "cell_type": "code",
      "metadata": {
        "id": "EGK_CsMYR0ua",
        "colab_type": "code",
        "colab": {}
      },
      "source": [
        "ratings['userId'] = ratings['userId'].astype('str')\n",
        "ratings['movieId'] = ratings['movieId'].astype('str')\n",
        "movies['movieId'] = movies['movieId'].astype('str')"
      ],
      "execution_count": 0,
      "outputs": []
    },
    {
      "cell_type": "markdown",
      "metadata": {
        "id": "YeOfb33ceCW9",
        "colab_type": "text"
      },
      "source": [
        "# Statistics of the dataset"
      ]
    },
    {
      "cell_type": "code",
      "metadata": {
        "id": "YFrKLZFz5CMh",
        "colab_type": "code",
        "outputId": "7c5d4cdc-46c8-47f8-f15a-5fc89f19de1e",
        "colab": {
          "base_uri": "https://localhost:8080/",
          "height": 51
        }
      },
      "source": [
        "userId = ratings.userId.unique()\n",
        "movieId = ratings.movieId.unique()\n",
        "num_users = len(userId)\n",
        "num_items =len(movieId)\n",
        "print('number of unique users:', num_users)\n",
        "print('number of unique movies:', num_items)"
      ],
      "execution_count": 7,
      "outputs": [
        {
          "output_type": "stream",
          "text": [
            "number of unique users: 610\n",
            "number of unique movies: 9724\n"
          ],
          "name": "stdout"
        }
      ]
    },
    {
      "cell_type": "code",
      "metadata": {
        "id": "4DEh3sBI5SDH",
        "colab_type": "code",
        "outputId": "5660346c-23a5-4264-bff4-69954916bc8c",
        "colab": {
          "base_uri": "https://localhost:8080/",
          "height": 34
        }
      },
      "source": [
        "sparsity = 1 - len(ratings) / (num_users * num_items)\n",
        "print('matrix sparsity:',sparsity)"
      ],
      "execution_count": 8,
      "outputs": [
        {
          "output_type": "stream",
          "text": [
            "matrix sparsity: 0.9830003169443864\n"
          ],
          "name": "stdout"
        }
      ]
    },
    {
      "cell_type": "markdown",
      "metadata": {
        "id": "hKO2VihcLydg",
        "colab_type": "text"
      },
      "source": [
        "#CF"
      ]
    },
    {
      "cell_type": "markdown",
      "metadata": {
        "id": "pmOERwipeIcg",
        "colab_type": "text"
      },
      "source": [
        "## Data Sampling"
      ]
    },
    {
      "cell_type": "code",
      "metadata": {
        "id": "gN4l2qvkWm09",
        "colab_type": "code",
        "outputId": "92cc6876-95c6-485f-ea6f-446246fe899f",
        "colab": {
          "base_uri": "https://localhost:8080/",
          "height": 51
        }
      },
      "source": [
        "# filtering movies. keeping only those that were rated at least 50 times.\n",
        "num = 50\n",
        "# get the number of times a movie has been rated.\n",
        "movieRatedFreq = pd.DataFrame(ratings.groupby('movieId').size(), columns=['count'])\n",
        "# get the ID of all movies that have been rated more than 50 times.\n",
        "popular_movies = list(set(movieRatedFreq.query('count >= @num').index))\n",
        "# filter the rating DF to contain only the popular movies.\n",
        "ratingsPopularMovies = ratings[ratings.movieId.isin(popular_movies)]\n",
        "print('Shape of ratings', ratings.shape)\n",
        "print('Shape of ratingsPopularMovies', ratingsPopularMovies.shape)"
      ],
      "execution_count": 9,
      "outputs": [
        {
          "output_type": "stream",
          "text": [
            "Shape of ratings (100836, 4)\n",
            "Shape of ratingsPopularMovies (41360, 4)\n"
          ],
          "name": "stdout"
        }
      ]
    },
    {
      "cell_type": "code",
      "metadata": {
        "id": "zDgSkh26cw3g",
        "colab_type": "code",
        "outputId": "17a2a49b-8465-4a7d-fb4c-ee30baff0cbc",
        "colab": {
          "base_uri": "https://localhost:8080/",
          "height": 34
        }
      },
      "source": [
        "# get the number of times a user has rated a movie.\n",
        "UserRatedMovieFreq = pd.DataFrame(ratingsPopularMovies.groupby('userId').size(), columns=['count'])\n",
        "active_users = list(set(UserRatedMovieFreq.query('count >= @num').index))\n",
        "ratingsPopularMoviesAndUsers = ratingsPopularMovies[ratingsPopularMovies.userId.isin(active_users)]\n",
        "print('Shape of DF after removing both user and movie < 50:', ratingsPopularMoviesAndUsers.shape)"
      ],
      "execution_count": 10,
      "outputs": [
        {
          "output_type": "stream",
          "text": [
            "Shape of DF after removing both user and movie < 50: (32999, 4)\n"
          ],
          "name": "stdout"
        }
      ]
    },
    {
      "cell_type": "code",
      "metadata": {
        "id": "eQEn4BAILzfs",
        "colab_type": "code",
        "outputId": "d869da65-1309-4e71-cbad-c22e75ef561e",
        "colab": {
          "base_uri": "https://localhost:8080/",
          "height": 283
        }
      },
      "source": [
        "from scipy.sparse import csr_matrix\n",
        "\n",
        "# create the sparse matrix\n",
        "features = ratings.pivot(index='movieId', columns='userId', values='rating').fillna(0)\n",
        "matrix_features = csr_matrix(features.values)\n",
        "features.head()"
      ],
      "execution_count": 35,
      "outputs": [
        {
          "output_type": "execute_result",
          "data": {
            "text/html": [
              "<div>\n",
              "<style scoped>\n",
              "    .dataframe tbody tr th:only-of-type {\n",
              "        vertical-align: middle;\n",
              "    }\n",
              "\n",
              "    .dataframe tbody tr th {\n",
              "        vertical-align: top;\n",
              "    }\n",
              "\n",
              "    .dataframe thead th {\n",
              "        text-align: right;\n",
              "    }\n",
              "</style>\n",
              "<table border=\"1\" class=\"dataframe\">\n",
              "  <thead>\n",
              "    <tr style=\"text-align: right;\">\n",
              "      <th>userId</th>\n",
              "      <th>1</th>\n",
              "      <th>10</th>\n",
              "      <th>100</th>\n",
              "      <th>101</th>\n",
              "      <th>102</th>\n",
              "      <th>103</th>\n",
              "      <th>104</th>\n",
              "      <th>105</th>\n",
              "      <th>106</th>\n",
              "      <th>107</th>\n",
              "      <th>108</th>\n",
              "      <th>109</th>\n",
              "      <th>11</th>\n",
              "      <th>110</th>\n",
              "      <th>111</th>\n",
              "      <th>112</th>\n",
              "      <th>113</th>\n",
              "      <th>114</th>\n",
              "      <th>115</th>\n",
              "      <th>116</th>\n",
              "      <th>117</th>\n",
              "      <th>118</th>\n",
              "      <th>119</th>\n",
              "      <th>12</th>\n",
              "      <th>120</th>\n",
              "      <th>121</th>\n",
              "      <th>122</th>\n",
              "      <th>123</th>\n",
              "      <th>124</th>\n",
              "      <th>125</th>\n",
              "      <th>126</th>\n",
              "      <th>127</th>\n",
              "      <th>128</th>\n",
              "      <th>129</th>\n",
              "      <th>13</th>\n",
              "      <th>130</th>\n",
              "      <th>131</th>\n",
              "      <th>132</th>\n",
              "      <th>133</th>\n",
              "      <th>134</th>\n",
              "      <th>...</th>\n",
              "      <th>63</th>\n",
              "      <th>64</th>\n",
              "      <th>65</th>\n",
              "      <th>66</th>\n",
              "      <th>67</th>\n",
              "      <th>68</th>\n",
              "      <th>69</th>\n",
              "      <th>7</th>\n",
              "      <th>70</th>\n",
              "      <th>71</th>\n",
              "      <th>72</th>\n",
              "      <th>73</th>\n",
              "      <th>74</th>\n",
              "      <th>75</th>\n",
              "      <th>76</th>\n",
              "      <th>77</th>\n",
              "      <th>78</th>\n",
              "      <th>79</th>\n",
              "      <th>8</th>\n",
              "      <th>80</th>\n",
              "      <th>81</th>\n",
              "      <th>82</th>\n",
              "      <th>83</th>\n",
              "      <th>84</th>\n",
              "      <th>85</th>\n",
              "      <th>86</th>\n",
              "      <th>87</th>\n",
              "      <th>88</th>\n",
              "      <th>89</th>\n",
              "      <th>9</th>\n",
              "      <th>90</th>\n",
              "      <th>91</th>\n",
              "      <th>92</th>\n",
              "      <th>93</th>\n",
              "      <th>94</th>\n",
              "      <th>95</th>\n",
              "      <th>96</th>\n",
              "      <th>97</th>\n",
              "      <th>98</th>\n",
              "      <th>99</th>\n",
              "    </tr>\n",
              "    <tr>\n",
              "      <th>movieId</th>\n",
              "      <th></th>\n",
              "      <th></th>\n",
              "      <th></th>\n",
              "      <th></th>\n",
              "      <th></th>\n",
              "      <th></th>\n",
              "      <th></th>\n",
              "      <th></th>\n",
              "      <th></th>\n",
              "      <th></th>\n",
              "      <th></th>\n",
              "      <th></th>\n",
              "      <th></th>\n",
              "      <th></th>\n",
              "      <th></th>\n",
              "      <th></th>\n",
              "      <th></th>\n",
              "      <th></th>\n",
              "      <th></th>\n",
              "      <th></th>\n",
              "      <th></th>\n",
              "      <th></th>\n",
              "      <th></th>\n",
              "      <th></th>\n",
              "      <th></th>\n",
              "      <th></th>\n",
              "      <th></th>\n",
              "      <th></th>\n",
              "      <th></th>\n",
              "      <th></th>\n",
              "      <th></th>\n",
              "      <th></th>\n",
              "      <th></th>\n",
              "      <th></th>\n",
              "      <th></th>\n",
              "      <th></th>\n",
              "      <th></th>\n",
              "      <th></th>\n",
              "      <th></th>\n",
              "      <th></th>\n",
              "      <th></th>\n",
              "      <th></th>\n",
              "      <th></th>\n",
              "      <th></th>\n",
              "      <th></th>\n",
              "      <th></th>\n",
              "      <th></th>\n",
              "      <th></th>\n",
              "      <th></th>\n",
              "      <th></th>\n",
              "      <th></th>\n",
              "      <th></th>\n",
              "      <th></th>\n",
              "      <th></th>\n",
              "      <th></th>\n",
              "      <th></th>\n",
              "      <th></th>\n",
              "      <th></th>\n",
              "      <th></th>\n",
              "      <th></th>\n",
              "      <th></th>\n",
              "      <th></th>\n",
              "      <th></th>\n",
              "      <th></th>\n",
              "      <th></th>\n",
              "      <th></th>\n",
              "      <th></th>\n",
              "      <th></th>\n",
              "      <th></th>\n",
              "      <th></th>\n",
              "      <th></th>\n",
              "      <th></th>\n",
              "      <th></th>\n",
              "      <th></th>\n",
              "      <th></th>\n",
              "      <th></th>\n",
              "      <th></th>\n",
              "      <th></th>\n",
              "      <th></th>\n",
              "      <th></th>\n",
              "      <th></th>\n",
              "    </tr>\n",
              "  </thead>\n",
              "  <tbody>\n",
              "    <tr>\n",
              "      <th>1</th>\n",
              "      <td>4.0</td>\n",
              "      <td>0.0</td>\n",
              "      <td>0.0</td>\n",
              "      <td>0.0</td>\n",
              "      <td>0.0</td>\n",
              "      <td>4.0</td>\n",
              "      <td>0.0</td>\n",
              "      <td>0.0</td>\n",
              "      <td>0.0</td>\n",
              "      <td>4.0</td>\n",
              "      <td>0.0</td>\n",
              "      <td>0.0</td>\n",
              "      <td>0.0</td>\n",
              "      <td>0.0</td>\n",
              "      <td>0.0</td>\n",
              "      <td>3.0</td>\n",
              "      <td>0.0</td>\n",
              "      <td>0.0</td>\n",
              "      <td>0.0</td>\n",
              "      <td>0.0</td>\n",
              "      <td>0.0</td>\n",
              "      <td>0.0</td>\n",
              "      <td>3.5</td>\n",
              "      <td>0.0</td>\n",
              "      <td>0.0</td>\n",
              "      <td>4.0</td>\n",
              "      <td>0.0</td>\n",
              "      <td>0.0</td>\n",
              "      <td>4.0</td>\n",
              "      <td>0.0</td>\n",
              "      <td>0.0</td>\n",
              "      <td>0.0</td>\n",
              "      <td>0.0</td>\n",
              "      <td>0.0</td>\n",
              "      <td>0.0</td>\n",
              "      <td>3.0</td>\n",
              "      <td>0.0</td>\n",
              "      <td>2.0</td>\n",
              "      <td>0.0</td>\n",
              "      <td>3.0</td>\n",
              "      <td>...</td>\n",
              "      <td>5.0</td>\n",
              "      <td>4.0</td>\n",
              "      <td>0.0</td>\n",
              "      <td>4.0</td>\n",
              "      <td>0.0</td>\n",
              "      <td>2.5</td>\n",
              "      <td>0.0</td>\n",
              "      <td>4.5</td>\n",
              "      <td>0.0</td>\n",
              "      <td>5.0</td>\n",
              "      <td>0.0</td>\n",
              "      <td>4.5</td>\n",
              "      <td>0.0</td>\n",
              "      <td>0.0</td>\n",
              "      <td>0.5</td>\n",
              "      <td>0.0</td>\n",
              "      <td>4.0</td>\n",
              "      <td>0.0</td>\n",
              "      <td>0.0</td>\n",
              "      <td>0.0</td>\n",
              "      <td>0.0</td>\n",
              "      <td>2.5</td>\n",
              "      <td>0.0</td>\n",
              "      <td>0.0</td>\n",
              "      <td>0.0</td>\n",
              "      <td>4.0</td>\n",
              "      <td>0.0</td>\n",
              "      <td>0.0</td>\n",
              "      <td>3.0</td>\n",
              "      <td>0.0</td>\n",
              "      <td>3.0</td>\n",
              "      <td>4.0</td>\n",
              "      <td>0.0</td>\n",
              "      <td>3.0</td>\n",
              "      <td>0.0</td>\n",
              "      <td>0.0</td>\n",
              "      <td>5.0</td>\n",
              "      <td>0.0</td>\n",
              "      <td>4.5</td>\n",
              "      <td>0.0</td>\n",
              "    </tr>\n",
              "    <tr>\n",
              "      <th>10</th>\n",
              "      <td>0.0</td>\n",
              "      <td>0.0</td>\n",
              "      <td>0.0</td>\n",
              "      <td>0.0</td>\n",
              "      <td>0.0</td>\n",
              "      <td>0.0</td>\n",
              "      <td>3.0</td>\n",
              "      <td>0.0</td>\n",
              "      <td>0.0</td>\n",
              "      <td>0.0</td>\n",
              "      <td>0.0</td>\n",
              "      <td>0.0</td>\n",
              "      <td>3.0</td>\n",
              "      <td>0.0</td>\n",
              "      <td>0.0</td>\n",
              "      <td>0.0</td>\n",
              "      <td>0.0</td>\n",
              "      <td>0.0</td>\n",
              "      <td>0.0</td>\n",
              "      <td>0.0</td>\n",
              "      <td>3.0</td>\n",
              "      <td>0.0</td>\n",
              "      <td>4.0</td>\n",
              "      <td>0.0</td>\n",
              "      <td>0.0</td>\n",
              "      <td>0.0</td>\n",
              "      <td>0.0</td>\n",
              "      <td>0.0</td>\n",
              "      <td>0.0</td>\n",
              "      <td>0.0</td>\n",
              "      <td>0.0</td>\n",
              "      <td>0.0</td>\n",
              "      <td>0.0</td>\n",
              "      <td>0.0</td>\n",
              "      <td>0.0</td>\n",
              "      <td>0.0</td>\n",
              "      <td>0.0</td>\n",
              "      <td>0.0</td>\n",
              "      <td>0.0</td>\n",
              "      <td>0.0</td>\n",
              "      <td>...</td>\n",
              "      <td>3.0</td>\n",
              "      <td>0.0</td>\n",
              "      <td>0.0</td>\n",
              "      <td>0.0</td>\n",
              "      <td>0.0</td>\n",
              "      <td>4.5</td>\n",
              "      <td>0.0</td>\n",
              "      <td>0.0</td>\n",
              "      <td>0.0</td>\n",
              "      <td>0.0</td>\n",
              "      <td>0.0</td>\n",
              "      <td>0.0</td>\n",
              "      <td>0.0</td>\n",
              "      <td>0.0</td>\n",
              "      <td>0.0</td>\n",
              "      <td>0.0</td>\n",
              "      <td>0.0</td>\n",
              "      <td>0.0</td>\n",
              "      <td>2.0</td>\n",
              "      <td>0.0</td>\n",
              "      <td>1.0</td>\n",
              "      <td>3.5</td>\n",
              "      <td>0.0</td>\n",
              "      <td>3.0</td>\n",
              "      <td>0.0</td>\n",
              "      <td>0.0</td>\n",
              "      <td>0.0</td>\n",
              "      <td>0.0</td>\n",
              "      <td>0.0</td>\n",
              "      <td>0.0</td>\n",
              "      <td>0.0</td>\n",
              "      <td>3.5</td>\n",
              "      <td>0.0</td>\n",
              "      <td>4.0</td>\n",
              "      <td>3.0</td>\n",
              "      <td>0.0</td>\n",
              "      <td>0.0</td>\n",
              "      <td>0.0</td>\n",
              "      <td>0.0</td>\n",
              "      <td>4.0</td>\n",
              "    </tr>\n",
              "    <tr>\n",
              "      <th>100</th>\n",
              "      <td>0.0</td>\n",
              "      <td>0.0</td>\n",
              "      <td>0.0</td>\n",
              "      <td>0.0</td>\n",
              "      <td>0.0</td>\n",
              "      <td>0.0</td>\n",
              "      <td>0.0</td>\n",
              "      <td>0.0</td>\n",
              "      <td>0.0</td>\n",
              "      <td>0.0</td>\n",
              "      <td>0.0</td>\n",
              "      <td>0.0</td>\n",
              "      <td>0.0</td>\n",
              "      <td>0.0</td>\n",
              "      <td>0.0</td>\n",
              "      <td>0.0</td>\n",
              "      <td>0.0</td>\n",
              "      <td>0.0</td>\n",
              "      <td>0.0</td>\n",
              "      <td>0.0</td>\n",
              "      <td>0.0</td>\n",
              "      <td>0.0</td>\n",
              "      <td>0.0</td>\n",
              "      <td>0.0</td>\n",
              "      <td>0.0</td>\n",
              "      <td>0.0</td>\n",
              "      <td>0.0</td>\n",
              "      <td>0.0</td>\n",
              "      <td>0.0</td>\n",
              "      <td>0.0</td>\n",
              "      <td>0.0</td>\n",
              "      <td>0.0</td>\n",
              "      <td>0.0</td>\n",
              "      <td>0.0</td>\n",
              "      <td>0.0</td>\n",
              "      <td>0.0</td>\n",
              "      <td>0.0</td>\n",
              "      <td>0.0</td>\n",
              "      <td>0.0</td>\n",
              "      <td>0.0</td>\n",
              "      <td>...</td>\n",
              "      <td>0.0</td>\n",
              "      <td>0.0</td>\n",
              "      <td>0.0</td>\n",
              "      <td>0.0</td>\n",
              "      <td>0.0</td>\n",
              "      <td>0.0</td>\n",
              "      <td>0.0</td>\n",
              "      <td>0.0</td>\n",
              "      <td>0.0</td>\n",
              "      <td>0.0</td>\n",
              "      <td>0.0</td>\n",
              "      <td>0.0</td>\n",
              "      <td>0.0</td>\n",
              "      <td>0.0</td>\n",
              "      <td>0.0</td>\n",
              "      <td>0.0</td>\n",
              "      <td>0.0</td>\n",
              "      <td>0.0</td>\n",
              "      <td>0.0</td>\n",
              "      <td>0.0</td>\n",
              "      <td>0.0</td>\n",
              "      <td>0.0</td>\n",
              "      <td>0.0</td>\n",
              "      <td>3.0</td>\n",
              "      <td>0.0</td>\n",
              "      <td>0.0</td>\n",
              "      <td>0.0</td>\n",
              "      <td>0.0</td>\n",
              "      <td>0.0</td>\n",
              "      <td>0.0</td>\n",
              "      <td>0.0</td>\n",
              "      <td>0.0</td>\n",
              "      <td>0.0</td>\n",
              "      <td>0.0</td>\n",
              "      <td>0.0</td>\n",
              "      <td>0.0</td>\n",
              "      <td>0.0</td>\n",
              "      <td>0.0</td>\n",
              "      <td>0.0</td>\n",
              "      <td>0.0</td>\n",
              "    </tr>\n",
              "    <tr>\n",
              "      <th>100044</th>\n",
              "      <td>0.0</td>\n",
              "      <td>0.0</td>\n",
              "      <td>0.0</td>\n",
              "      <td>0.0</td>\n",
              "      <td>0.0</td>\n",
              "      <td>0.0</td>\n",
              "      <td>0.0</td>\n",
              "      <td>0.0</td>\n",
              "      <td>0.0</td>\n",
              "      <td>0.0</td>\n",
              "      <td>0.0</td>\n",
              "      <td>0.0</td>\n",
              "      <td>0.0</td>\n",
              "      <td>0.0</td>\n",
              "      <td>0.0</td>\n",
              "      <td>0.0</td>\n",
              "      <td>0.0</td>\n",
              "      <td>0.0</td>\n",
              "      <td>0.0</td>\n",
              "      <td>0.0</td>\n",
              "      <td>0.0</td>\n",
              "      <td>0.0</td>\n",
              "      <td>0.0</td>\n",
              "      <td>0.0</td>\n",
              "      <td>0.0</td>\n",
              "      <td>0.0</td>\n",
              "      <td>0.0</td>\n",
              "      <td>0.0</td>\n",
              "      <td>0.0</td>\n",
              "      <td>0.0</td>\n",
              "      <td>0.0</td>\n",
              "      <td>0.0</td>\n",
              "      <td>0.0</td>\n",
              "      <td>0.0</td>\n",
              "      <td>0.0</td>\n",
              "      <td>0.0</td>\n",
              "      <td>0.0</td>\n",
              "      <td>0.0</td>\n",
              "      <td>0.0</td>\n",
              "      <td>0.0</td>\n",
              "      <td>...</td>\n",
              "      <td>0.0</td>\n",
              "      <td>0.0</td>\n",
              "      <td>0.0</td>\n",
              "      <td>0.0</td>\n",
              "      <td>0.0</td>\n",
              "      <td>0.0</td>\n",
              "      <td>0.0</td>\n",
              "      <td>0.0</td>\n",
              "      <td>0.0</td>\n",
              "      <td>0.0</td>\n",
              "      <td>0.0</td>\n",
              "      <td>0.0</td>\n",
              "      <td>0.0</td>\n",
              "      <td>0.0</td>\n",
              "      <td>0.0</td>\n",
              "      <td>0.0</td>\n",
              "      <td>0.0</td>\n",
              "      <td>0.0</td>\n",
              "      <td>0.0</td>\n",
              "      <td>0.0</td>\n",
              "      <td>0.0</td>\n",
              "      <td>0.0</td>\n",
              "      <td>0.0</td>\n",
              "      <td>0.0</td>\n",
              "      <td>0.0</td>\n",
              "      <td>0.0</td>\n",
              "      <td>0.0</td>\n",
              "      <td>0.0</td>\n",
              "      <td>0.0</td>\n",
              "      <td>0.0</td>\n",
              "      <td>0.0</td>\n",
              "      <td>0.0</td>\n",
              "      <td>0.0</td>\n",
              "      <td>0.0</td>\n",
              "      <td>0.0</td>\n",
              "      <td>0.0</td>\n",
              "      <td>0.0</td>\n",
              "      <td>0.0</td>\n",
              "      <td>0.0</td>\n",
              "      <td>0.0</td>\n",
              "    </tr>\n",
              "    <tr>\n",
              "      <th>100068</th>\n",
              "      <td>0.0</td>\n",
              "      <td>0.0</td>\n",
              "      <td>0.0</td>\n",
              "      <td>0.0</td>\n",
              "      <td>0.0</td>\n",
              "      <td>0.0</td>\n",
              "      <td>0.0</td>\n",
              "      <td>0.0</td>\n",
              "      <td>0.0</td>\n",
              "      <td>0.0</td>\n",
              "      <td>0.0</td>\n",
              "      <td>0.0</td>\n",
              "      <td>0.0</td>\n",
              "      <td>0.0</td>\n",
              "      <td>0.0</td>\n",
              "      <td>0.0</td>\n",
              "      <td>0.0</td>\n",
              "      <td>0.0</td>\n",
              "      <td>0.0</td>\n",
              "      <td>0.0</td>\n",
              "      <td>0.0</td>\n",
              "      <td>0.0</td>\n",
              "      <td>0.0</td>\n",
              "      <td>0.0</td>\n",
              "      <td>0.0</td>\n",
              "      <td>0.0</td>\n",
              "      <td>0.0</td>\n",
              "      <td>0.0</td>\n",
              "      <td>0.0</td>\n",
              "      <td>0.0</td>\n",
              "      <td>0.0</td>\n",
              "      <td>0.0</td>\n",
              "      <td>0.0</td>\n",
              "      <td>0.0</td>\n",
              "      <td>0.0</td>\n",
              "      <td>0.0</td>\n",
              "      <td>0.0</td>\n",
              "      <td>0.0</td>\n",
              "      <td>0.0</td>\n",
              "      <td>0.0</td>\n",
              "      <td>...</td>\n",
              "      <td>0.0</td>\n",
              "      <td>0.0</td>\n",
              "      <td>0.0</td>\n",
              "      <td>0.0</td>\n",
              "      <td>0.0</td>\n",
              "      <td>0.0</td>\n",
              "      <td>0.0</td>\n",
              "      <td>0.0</td>\n",
              "      <td>0.0</td>\n",
              "      <td>0.0</td>\n",
              "      <td>0.0</td>\n",
              "      <td>0.0</td>\n",
              "      <td>0.0</td>\n",
              "      <td>0.0</td>\n",
              "      <td>0.0</td>\n",
              "      <td>0.0</td>\n",
              "      <td>0.0</td>\n",
              "      <td>0.0</td>\n",
              "      <td>0.0</td>\n",
              "      <td>0.0</td>\n",
              "      <td>0.0</td>\n",
              "      <td>0.0</td>\n",
              "      <td>0.0</td>\n",
              "      <td>0.0</td>\n",
              "      <td>0.0</td>\n",
              "      <td>0.0</td>\n",
              "      <td>0.0</td>\n",
              "      <td>0.0</td>\n",
              "      <td>0.0</td>\n",
              "      <td>0.0</td>\n",
              "      <td>0.0</td>\n",
              "      <td>0.0</td>\n",
              "      <td>0.0</td>\n",
              "      <td>0.0</td>\n",
              "      <td>0.0</td>\n",
              "      <td>0.0</td>\n",
              "      <td>0.0</td>\n",
              "      <td>0.0</td>\n",
              "      <td>0.0</td>\n",
              "      <td>0.0</td>\n",
              "    </tr>\n",
              "  </tbody>\n",
              "</table>\n",
              "<p>5 rows × 610 columns</p>\n",
              "</div>"
            ],
            "text/plain": [
              "userId     1   10  100  101  102  103  104  ...   93   94   95   96   97   98   99\n",
              "movieId                                     ...                                   \n",
              "1        4.0  0.0  0.0  0.0  0.0  4.0  0.0  ...  3.0  0.0  0.0  5.0  0.0  4.5  0.0\n",
              "10       0.0  0.0  0.0  0.0  0.0  0.0  3.0  ...  4.0  3.0  0.0  0.0  0.0  0.0  4.0\n",
              "100      0.0  0.0  0.0  0.0  0.0  0.0  0.0  ...  0.0  0.0  0.0  0.0  0.0  0.0  0.0\n",
              "100044   0.0  0.0  0.0  0.0  0.0  0.0  0.0  ...  0.0  0.0  0.0  0.0  0.0  0.0  0.0\n",
              "100068   0.0  0.0  0.0  0.0  0.0  0.0  0.0  ...  0.0  0.0  0.0  0.0  0.0  0.0  0.0\n",
              "\n",
              "[5 rows x 610 columns]"
            ]
          },
          "metadata": {
            "tags": []
          },
          "execution_count": 35
        }
      ]
    },
    {
      "cell_type": "code",
      "metadata": {
        "id": "xGq9IK-78B87",
        "colab_type": "code",
        "colab": {}
      },
      "source": [
        "temp = movies.copy()\n",
        "temp.title = temp.title+'|'+temp.movieId"
      ],
      "execution_count": 0,
      "outputs": []
    },
    {
      "cell_type": "code",
      "metadata": {
        "id": "tNOYD7-ThabR",
        "colab_type": "code",
        "colab": {}
      },
      "source": [
        "#map movie titles to images\n",
        "movieToIndex = {\n",
        "    movie: i for i, movie in \n",
        "    enumerate(list(temp.set_index('movieId').loc[features.index].title))\n",
        "}"
      ],
      "execution_count": 0,
      "outputs": []
    },
    {
      "cell_type": "markdown",
      "metadata": {
        "id": "tHDwIAaaHaHj",
        "colab_type": "text"
      },
      "source": [
        "## KNN"
      ]
    },
    {
      "cell_type": "code",
      "metadata": {
        "id": "2Fnc8XXpgf5C",
        "colab_type": "code",
        "outputId": "319ebbd9-93fa-495c-f785-513b30acf658",
        "colab": {
          "base_uri": "https://localhost:8080/",
          "height": 68
        }
      },
      "source": [
        "from sklearn.neighbors import NearestNeighbors\n",
        "\n",
        "model_knn = NearestNeighbors(metric='cosine', algorithm='brute', n_neighbors=20, n_jobs=-1)\n",
        "# fit the dataset\n",
        "model_knn.fit(matrix_features)"
      ],
      "execution_count": 38,
      "outputs": [
        {
          "output_type": "execute_result",
          "data": {
            "text/plain": [
              "NearestNeighbors(algorithm='brute', leaf_size=30, metric='cosine',\n",
              "                 metric_params=None, n_jobs=-1, n_neighbors=20, p=2,\n",
              "                 radius=1.0)"
            ]
          },
          "metadata": {
            "tags": []
          },
          "execution_count": 38
        }
      ]
    },
    {
      "cell_type": "code",
      "metadata": {
        "id": "wVie4RswkSdb",
        "colab_type": "code",
        "colab": {
          "base_uri": "https://localhost:8080/",
          "height": 34
        },
        "outputId": "1c6a397a-baf3-4d64-e825-4e74443ff563"
      },
      "source": [
        "matrix_features.shape"
      ],
      "execution_count": 39,
      "outputs": [
        {
          "output_type": "execute_result",
          "data": {
            "text/plain": [
              "(9724, 610)"
            ]
          },
          "metadata": {
            "tags": []
          },
          "execution_count": 39
        }
      ]
    },
    {
      "cell_type": "markdown",
      "metadata": {
        "id": "Y3HAwLSzKSrp",
        "colab_type": "text"
      },
      "source": [
        "## Prediction"
      ]
    },
    {
      "cell_type": "code",
      "metadata": {
        "id": "xQHB3Jlir84u",
        "colab_type": "code",
        "colab": {}
      },
      "source": [
        "# Build a 1-dimensional array with movie titles\n",
        "titles = movies['title']\n",
        "movie_indices = pd.Series(movies.index, index=movies['title'])"
      ],
      "execution_count": 0,
      "outputs": []
    },
    {
      "cell_type": "code",
      "metadata": {
        "id": "ezVuBrSxd9gI",
        "colab_type": "code",
        "colab": {}
      },
      "source": [
        "def pred(title):\n",
        "  #this list is the list of recommended movies' ID\n",
        "  thislist = []\n",
        "  idx = movie_indices[title]\n",
        "  distances, indices = model_knn.kneighbors(matrix_features[idx], n_neighbors=20)\n",
        "\n",
        "  recommended = pd.DataFrame(data=indices[0], columns=['idx'])\n",
        "  recommended['distances'] = distances[0]\n",
        "  recommended = recommended.sort_values(by='distances', ascending=False)\n",
        "\n",
        "  reverse_mapper = {v: k for k, v in movieToIndex.items()}\n",
        "  for i,row in recommended.iterrows():\n",
        "    thislist.append(reverse_mapper[row['idx']].split('|')[1])\n",
        "    print('{0}, with distance of {1}'.format(reverse_mapper[row['idx']], row['distances']))\n",
        "  return thislist"
      ],
      "execution_count": 0,
      "outputs": []
    },
    {
      "cell_type": "markdown",
      "metadata": {
        "id": "L7vUQY6ytvN_",
        "colab_type": "text"
      },
      "source": [
        "##Calculate ratings from neighbors"
      ]
    },
    {
      "cell_type": "code",
      "metadata": {
        "id": "BMvjEfshjIXm",
        "colab_type": "code",
        "colab": {}
      },
      "source": [
        "newRatings = newRatings.drop(labels=['timestamp'],axis=1)"
      ],
      "execution_count": 0,
      "outputs": []
    },
    {
      "cell_type": "code",
      "metadata": {
        "id": "L2VDvz2VqKSt",
        "colab_type": "code",
        "colab": {}
      },
      "source": [
        "user1 = newRatings.loc[newRatings.userId==257]"
      ],
      "execution_count": 0,
      "outputs": []
    },
    {
      "cell_type": "code",
      "metadata": {
        "id": "JWne4gIMM-s-",
        "colab_type": "code",
        "colab": {
          "base_uri": "https://localhost:8080/",
          "height": 120
        },
        "outputId": "8c02832a-6c64-4a35-bab7-8e051e6c0e60"
      },
      "source": [
        "user1.movieId = user1.movieId.astype(str)"
      ],
      "execution_count": 44,
      "outputs": [
        {
          "output_type": "stream",
          "text": [
            "/usr/local/lib/python3.6/dist-packages/pandas/core/generic.py:5303: SettingWithCopyWarning: \n",
            "A value is trying to be set on a copy of a slice from a DataFrame.\n",
            "Try using .loc[row_indexer,col_indexer] = value instead\n",
            "\n",
            "See the caveats in the documentation: https://pandas.pydata.org/pandas-docs/stable/user_guide/indexing.html#returning-a-view-versus-a-copy\n",
            "  self[name] = value\n"
          ],
          "name": "stderr"
        }
      ]
    },
    {
      "cell_type": "code",
      "metadata": {
        "id": "f9W6d6X0jMJ-",
        "colab_type": "code",
        "colab": {}
      },
      "source": [
        "user1"
      ],
      "execution_count": 0,
      "outputs": []
    },
    {
      "cell_type": "code",
      "metadata": {
        "id": "Y38i7Ki-CEs9",
        "colab_type": "code",
        "colab": {
          "base_uri": "https://localhost:8080/",
          "height": 257
        },
        "outputId": "f9a4ac6e-2e9b-4374-d511-0c34e70c08c0"
      },
      "source": [
        "for i, row in user1.iterrows():\n",
        "  if(row.movieId in thislist):\n",
        "    print(row.title)"
      ],
      "execution_count": 24,
      "outputs": [
        {
          "output_type": "stream",
          "text": [
            "Toy Story (1995)\n",
            "Star Wars: Episode IV - A New Hope (1977)\n",
            "Pulp Fiction (1994)\n",
            "Forrest Gump (1994)\n",
            "Jurassic Park (1993)\n",
            "Star Wars: Episode V - The Empire Strikes Back (1980)\n",
            "Raiders of the Lost Ark (Indiana Jones and the Raiders of the Lost Ark) (1981)\n",
            "Star Wars: Episode VI - Return of the Jedi (1983)\n",
            "Groundhog Day (1993)\n",
            "Back to the Future (1985)\n",
            "Indiana Jones and the Last Crusade (1989)\n",
            "Men in Black (a.k.a. MIB) (1997)\n",
            "Saving Private Ryan (1998)\n",
            "Matrix, The (1999)\n"
          ],
          "name": "stdout"
        }
      ]
    },
    {
      "cell_type": "markdown",
      "metadata": {
        "id": "dAjDCYDfifrj",
        "colab_type": "text"
      },
      "source": [
        "#Case Study"
      ]
    },
    {
      "cell_type": "markdown",
      "metadata": {
        "id": "bQQxxTs9shOi",
        "colab_type": "text"
      },
      "source": [
        "##User 1"
      ]
    },
    {
      "cell_type": "code",
      "metadata": {
        "id": "ntrq8q-6j9i0",
        "colab_type": "code",
        "colab": {
          "base_uri": "https://localhost:8080/",
          "height": 377
        },
        "outputId": "d1a76ac2-988a-450f-9b6d-59869c1cced0"
      },
      "source": [
        "recMovieIdUser1 = pred('Dragonheart (1996)')"
      ],
      "execution_count": 51,
      "outputs": [
        {
          "output_type": "stream",
          "text": [
            "549\n",
            "Er ist wieder da (2015)|143969, with distance of 0.18181818181818177\n",
            "Machete Kills (Machete 2) (2013)|105585, with distance of 0.1425070742874559\n",
            "Battleship (2012)|94018, with distance of 0.12712843905603044\n",
            "Contraband (2012)|91842, with distance of 0.10557280900008414\n",
            "They Call Me Trinity (1971)|26249, with distance of 0.10557280900008414\n",
            "The Purge: Election Year (2016)|160565, with distance of 0.02381293981604715\n",
            "Serbian Film, A (Srpski film) (2010)|79251, with distance of 0.007722123286332261\n",
            "Battle For Sevastopol (2015)|140627, with distance of 0.0\n",
            "Walk Among the Tombstones, A (2014)|114246, with distance of 0.0\n",
            "Homefront (2013)|106785, with distance of 0.0\n",
            "Che: Part Two (2008)|64501, with distance of 0.0\n",
            "SORI: Voice from the Heart (2016)|158027, with distance of 0.0\n",
            "Trumbo (2015)|145418, with distance of 0.0\n",
            "Black Sea (2015)|118706, with distance of 0.0\n",
            "Book Thief, The (2013)|106441, with distance of 0.0\n",
            "Agora (2009)|74624, with distance of 0.0\n",
            "ARQ (2016)|163985, with distance of 0.0\n",
            "Woman in Gold (2015)|131796, with distance of 0.0\n",
            "Che: Part One (2008)|64499, with distance of 0.0\n",
            "Genius (2016)|160400, with distance of 0.0\n"
          ],
          "name": "stdout"
        }
      ]
    },
    {
      "cell_type": "code",
      "metadata": {
        "id": "LtUNnKW2m0Xz",
        "colab_type": "code",
        "colab": {
          "base_uri": "https://localhost:8080/",
          "height": 666
        },
        "outputId": "54986df5-26c1-46d9-92fc-60e1eae6541f"
      },
      "source": [
        "movies[movies['movieId'].isin(recMovieIdUser1)]"
      ],
      "execution_count": 55,
      "outputs": [
        {
          "output_type": "execute_result",
          "data": {
            "text/html": [
              "<div>\n",
              "<style scoped>\n",
              "    .dataframe tbody tr th:only-of-type {\n",
              "        vertical-align: middle;\n",
              "    }\n",
              "\n",
              "    .dataframe tbody tr th {\n",
              "        vertical-align: top;\n",
              "    }\n",
              "\n",
              "    .dataframe thead th {\n",
              "        text-align: right;\n",
              "    }\n",
              "</style>\n",
              "<table border=\"1\" class=\"dataframe\">\n",
              "  <thead>\n",
              "    <tr style=\"text-align: right;\">\n",
              "      <th></th>\n",
              "      <th>movieId</th>\n",
              "      <th>title</th>\n",
              "      <th>genres</th>\n",
              "    </tr>\n",
              "  </thead>\n",
              "  <tbody>\n",
              "    <tr>\n",
              "      <th>5479</th>\n",
              "      <td>26249</td>\n",
              "      <td>They Call Me Trinity (1971)</td>\n",
              "      <td>Comedy|Western</td>\n",
              "    </tr>\n",
              "    <tr>\n",
              "      <th>6919</th>\n",
              "      <td>64499</td>\n",
              "      <td>Che: Part One (2008)</td>\n",
              "      <td>Drama|War</td>\n",
              "    </tr>\n",
              "    <tr>\n",
              "      <th>6920</th>\n",
              "      <td>64501</td>\n",
              "      <td>Che: Part Two (2008)</td>\n",
              "      <td>Drama|War</td>\n",
              "    </tr>\n",
              "    <tr>\n",
              "      <th>7266</th>\n",
              "      <td>74624</td>\n",
              "      <td>Agora (2009)</td>\n",
              "      <td>Adventure|Drama|Romance</td>\n",
              "    </tr>\n",
              "    <tr>\n",
              "      <th>7378</th>\n",
              "      <td>79251</td>\n",
              "      <td>Serbian Film, A (Srpski film) (2010)</td>\n",
              "      <td>Horror|Thriller</td>\n",
              "    </tr>\n",
              "    <tr>\n",
              "      <th>7783</th>\n",
              "      <td>91842</td>\n",
              "      <td>Contraband (2012)</td>\n",
              "      <td>Action|Crime|Drama|Thriller</td>\n",
              "    </tr>\n",
              "    <tr>\n",
              "      <th>7866</th>\n",
              "      <td>94018</td>\n",
              "      <td>Battleship (2012)</td>\n",
              "      <td>Action|Sci-Fi|Thriller|IMAX</td>\n",
              "    </tr>\n",
              "    <tr>\n",
              "      <th>8276</th>\n",
              "      <td>105585</td>\n",
              "      <td>Machete Kills (Machete 2) (2013)</td>\n",
              "      <td>Action|Crime|Thriller</td>\n",
              "    </tr>\n",
              "    <tr>\n",
              "      <th>8294</th>\n",
              "      <td>106441</td>\n",
              "      <td>Book Thief, The (2013)</td>\n",
              "      <td>Children|Drama|War</td>\n",
              "    </tr>\n",
              "    <tr>\n",
              "      <th>8306</th>\n",
              "      <td>106785</td>\n",
              "      <td>Homefront (2013)</td>\n",
              "      <td>Action|Crime|Thriller</td>\n",
              "    </tr>\n",
              "    <tr>\n",
              "      <th>8515</th>\n",
              "      <td>114246</td>\n",
              "      <td>Walk Among the Tombstones, A (2014)</td>\n",
              "      <td>Action|Crime|Mystery|Thriller</td>\n",
              "    </tr>\n",
              "    <tr>\n",
              "      <th>8620</th>\n",
              "      <td>118706</td>\n",
              "      <td>Black Sea (2015)</td>\n",
              "      <td>Adventure|Mystery|Thriller</td>\n",
              "    </tr>\n",
              "    <tr>\n",
              "      <th>8831</th>\n",
              "      <td>131796</td>\n",
              "      <td>Woman in Gold (2015)</td>\n",
              "      <td>Drama</td>\n",
              "    </tr>\n",
              "    <tr>\n",
              "      <th>9022</th>\n",
              "      <td>140627</td>\n",
              "      <td>Battle For Sevastopol (2015)</td>\n",
              "      <td>Drama|Romance|War</td>\n",
              "    </tr>\n",
              "    <tr>\n",
              "      <th>9099</th>\n",
              "      <td>143969</td>\n",
              "      <td>Er ist wieder da (2015)</td>\n",
              "      <td>Comedy</td>\n",
              "    </tr>\n",
              "    <tr>\n",
              "      <th>9115</th>\n",
              "      <td>145418</td>\n",
              "      <td>Trumbo (2015)</td>\n",
              "      <td>Drama</td>\n",
              "    </tr>\n",
              "    <tr>\n",
              "      <th>9284</th>\n",
              "      <td>158027</td>\n",
              "      <td>SORI: Voice from the Heart (2016)</td>\n",
              "      <td>Drama|Sci-Fi</td>\n",
              "    </tr>\n",
              "    <tr>\n",
              "      <th>9326</th>\n",
              "      <td>160400</td>\n",
              "      <td>Genius (2016)</td>\n",
              "      <td>Drama</td>\n",
              "    </tr>\n",
              "    <tr>\n",
              "      <th>9332</th>\n",
              "      <td>160565</td>\n",
              "      <td>The Purge: Election Year (2016)</td>\n",
              "      <td>Action|Horror|Sci-Fi</td>\n",
              "    </tr>\n",
              "    <tr>\n",
              "      <th>9391</th>\n",
              "      <td>163985</td>\n",
              "      <td>ARQ (2016)</td>\n",
              "      <td>Sci-Fi|Thriller</td>\n",
              "    </tr>\n",
              "  </tbody>\n",
              "</table>\n",
              "</div>"
            ],
            "text/plain": [
              "     movieId  ...                         genres\n",
              "5479   26249  ...                 Comedy|Western\n",
              "6919   64499  ...                      Drama|War\n",
              "6920   64501  ...                      Drama|War\n",
              "7266   74624  ...        Adventure|Drama|Romance\n",
              "7378   79251  ...                Horror|Thriller\n",
              "7783   91842  ...    Action|Crime|Drama|Thriller\n",
              "7866   94018  ...    Action|Sci-Fi|Thriller|IMAX\n",
              "8276  105585  ...          Action|Crime|Thriller\n",
              "8294  106441  ...             Children|Drama|War\n",
              "8306  106785  ...          Action|Crime|Thriller\n",
              "8515  114246  ...  Action|Crime|Mystery|Thriller\n",
              "8620  118706  ...     Adventure|Mystery|Thriller\n",
              "8831  131796  ...                          Drama\n",
              "9022  140627  ...              Drama|Romance|War\n",
              "9099  143969  ...                         Comedy\n",
              "9115  145418  ...                          Drama\n",
              "9284  158027  ...                   Drama|Sci-Fi\n",
              "9326  160400  ...                          Drama\n",
              "9332  160565  ...           Action|Horror|Sci-Fi\n",
              "9391  163985  ...                Sci-Fi|Thriller\n",
              "\n",
              "[20 rows x 3 columns]"
            ]
          },
          "metadata": {
            "tags": []
          },
          "execution_count": 55
        }
      ]
    },
    {
      "cell_type": "markdown",
      "metadata": {
        "id": "1lI_onEbslvO",
        "colab_type": "text"
      },
      "source": [
        "##User 2"
      ]
    },
    {
      "cell_type": "code",
      "metadata": {
        "id": "RRDz-qKKsubD",
        "colab_type": "code",
        "colab": {
          "base_uri": "https://localhost:8080/",
          "height": 51
        },
        "outputId": "dd075fa1-cf78-4ff5-b017-ef8884fa6ff5"
      },
      "source": [
        "movies[movies['movieId']=='59421'].title"
      ],
      "execution_count": 83,
      "outputs": [
        {
          "output_type": "execute_result",
          "data": {
            "text/plain": [
              "6748    What Happens in Vegas... (2008)\n",
              "Name: title, dtype: object"
            ]
          },
          "metadata": {
            "tags": []
          },
          "execution_count": 83
        }
      ]
    },
    {
      "cell_type": "code",
      "metadata": {
        "id": "6i3y_-qfOVm3",
        "colab_type": "code",
        "outputId": "be2b743a-1243-4dd5-d5cb-f7537097f369",
        "colab": {
          "base_uri": "https://localhost:8080/",
          "height": 360
        }
      },
      "source": [
        "recMovieIdUser2 = pred('What Happens in Vegas... (2008)')"
      ],
      "execution_count": 78,
      "outputs": [
        {
          "output_type": "stream",
          "text": [
            "Helter Skelter (2004)|43549, with distance of 0.24074339763470343\n",
            "Two for the Money (2005)|38992, with distance of 0.24074339763470343\n",
            "State Property 2 (2005)|33132, with distance of 0.24074339763470343\n",
            "City of the Living Dead (a.k.a. Gates of Hell, The) (Paura nella città dei morti viventi) (1980)|3652, with distance of 0.24074339763470343\n",
            "Black Christmas (2006)|50147, with distance of 0.24074339763470343\n",
            "Bless the Child (2000)|3857, with distance of 0.24074339763470343\n",
            "Masterminds (1997)|8241, with distance of 0.24074339763470343\n",
            "Teeth (2007)|57910, with distance of 0.24074339763470343\n",
            "Primeval (2007)|50440, with distance of 0.24074339763470343\n",
            "Bats (1999)|2974, with distance of 0.24074339763470343\n",
            "Silent Night, Deadly Night (1984)|26523, with distance of 0.24074339763470343\n",
            "Valentine (2001)|4143, with distance of 0.24074339763470343\n",
            "Riki-Oh: The Story of Ricky (Lik Wong) (1991)|26736, with distance of 0.24074339763470343\n",
            "Many Adventures of Winnie the Pooh, The (1977)|31193, with distance of 0.24074339763470343\n",
            "My Name Is Bruce (2007)|66427, with distance of 0.24074339763470343\n",
            "Salo, or The 120 Days of Sodom (Salò o le 120 giornate di Sodoma) (1976)|7024, with distance of 0.237725972520465\n",
            "Cannibal Holocaust (1980)|8906, with distance of 0.09677411824945348\n",
            "Treasure Island (1950)|6405, with distance of 0.01176470588235301\n",
            "Messengers, The (2007)|50800, with distance of 0.007266217966291677\n",
            "Scanners (1981)|5853, with distance of 0.0\n"
          ],
          "name": "stdout"
        }
      ]
    },
    {
      "cell_type": "code",
      "metadata": {
        "id": "NA70p-3EtGux",
        "colab_type": "code",
        "colab": {
          "base_uri": "https://localhost:8080/",
          "height": 666
        },
        "outputId": "9db29f0d-ab22-4847-9510-cedd26862223"
      },
      "source": [
        "movies[movies['movieId'].isin(recMovieIdUser2)]"
      ],
      "execution_count": 79,
      "outputs": [
        {
          "output_type": "execute_result",
          "data": {
            "text/html": [
              "<div>\n",
              "<style scoped>\n",
              "    .dataframe tbody tr th:only-of-type {\n",
              "        vertical-align: middle;\n",
              "    }\n",
              "\n",
              "    .dataframe tbody tr th {\n",
              "        vertical-align: top;\n",
              "    }\n",
              "\n",
              "    .dataframe thead th {\n",
              "        text-align: right;\n",
              "    }\n",
              "</style>\n",
              "<table border=\"1\" class=\"dataframe\">\n",
              "  <thead>\n",
              "    <tr style=\"text-align: right;\">\n",
              "      <th></th>\n",
              "      <th>movieId</th>\n",
              "      <th>title</th>\n",
              "      <th>genres</th>\n",
              "    </tr>\n",
              "  </thead>\n",
              "  <tbody>\n",
              "    <tr>\n",
              "      <th>2239</th>\n",
              "      <td>2974</td>\n",
              "      <td>Bats (1999)</td>\n",
              "      <td>Horror|Thriller</td>\n",
              "    </tr>\n",
              "    <tr>\n",
              "      <th>2720</th>\n",
              "      <td>3652</td>\n",
              "      <td>City of the Living Dead (a.k.a. Gates of Hell,...</td>\n",
              "      <td>Horror</td>\n",
              "    </tr>\n",
              "    <tr>\n",
              "      <th>2883</th>\n",
              "      <td>3857</td>\n",
              "      <td>Bless the Child (2000)</td>\n",
              "      <td>Thriller</td>\n",
              "    </tr>\n",
              "    <tr>\n",
              "      <th>3086</th>\n",
              "      <td>4143</td>\n",
              "      <td>Valentine (2001)</td>\n",
              "      <td>Horror|Mystery</td>\n",
              "    </tr>\n",
              "    <tr>\n",
              "      <th>4092</th>\n",
              "      <td>5853</td>\n",
              "      <td>Scanners (1981)</td>\n",
              "      <td>Horror|Sci-Fi|Thriller</td>\n",
              "    </tr>\n",
              "    <tr>\n",
              "      <th>4373</th>\n",
              "      <td>6405</td>\n",
              "      <td>Treasure Island (1950)</td>\n",
              "      <td>Adventure|Children</td>\n",
              "    </tr>\n",
              "    <tr>\n",
              "      <th>4707</th>\n",
              "      <td>7024</td>\n",
              "      <td>Salo, or The 120 Days of Sodom (Salò o le 120 ...</td>\n",
              "      <td>Drama</td>\n",
              "    </tr>\n",
              "    <tr>\n",
              "      <th>5140</th>\n",
              "      <td>8241</td>\n",
              "      <td>Masterminds (1997)</td>\n",
              "      <td>Action|Comedy|Thriller</td>\n",
              "    </tr>\n",
              "    <tr>\n",
              "      <th>5341</th>\n",
              "      <td>8906</td>\n",
              "      <td>Cannibal Holocaust (1980)</td>\n",
              "      <td>Horror</td>\n",
              "    </tr>\n",
              "    <tr>\n",
              "      <th>5518</th>\n",
              "      <td>26523</td>\n",
              "      <td>Silent Night, Deadly Night (1984)</td>\n",
              "      <td>Horror|Thriller</td>\n",
              "    </tr>\n",
              "    <tr>\n",
              "      <th>5564</th>\n",
              "      <td>26736</td>\n",
              "      <td>Riki-Oh: The Story of Ricky (Lik Wong) (1991)</td>\n",
              "      <td>Action|Crime|Thriller</td>\n",
              "    </tr>\n",
              "    <tr>\n",
              "      <th>5766</th>\n",
              "      <td>31193</td>\n",
              "      <td>Many Adventures of Winnie the Pooh, The (1977)</td>\n",
              "      <td>Animation|Children|Musical</td>\n",
              "    </tr>\n",
              "    <tr>\n",
              "      <th>5877</th>\n",
              "      <td>33132</td>\n",
              "      <td>State Property 2 (2005)</td>\n",
              "      <td>Action|Crime|Drama</td>\n",
              "    </tr>\n",
              "    <tr>\n",
              "      <th>6027</th>\n",
              "      <td>38992</td>\n",
              "      <td>Two for the Money (2005)</td>\n",
              "      <td>Drama</td>\n",
              "    </tr>\n",
              "    <tr>\n",
              "      <th>6124</th>\n",
              "      <td>43549</td>\n",
              "      <td>Helter Skelter (2004)</td>\n",
              "      <td>Action|Crime|Drama|Horror</td>\n",
              "    </tr>\n",
              "    <tr>\n",
              "      <th>6378</th>\n",
              "      <td>50147</td>\n",
              "      <td>Black Christmas (2006)</td>\n",
              "      <td>Action|Horror|Thriller</td>\n",
              "    </tr>\n",
              "    <tr>\n",
              "      <th>6385</th>\n",
              "      <td>50440</td>\n",
              "      <td>Primeval (2007)</td>\n",
              "      <td>Horror|Thriller</td>\n",
              "    </tr>\n",
              "    <tr>\n",
              "      <th>6399</th>\n",
              "      <td>50800</td>\n",
              "      <td>Messengers, The (2007)</td>\n",
              "      <td>Drama|Horror|Thriller</td>\n",
              "    </tr>\n",
              "    <tr>\n",
              "      <th>6679</th>\n",
              "      <td>57910</td>\n",
              "      <td>Teeth (2007)</td>\n",
              "      <td>Comedy|Horror</td>\n",
              "    </tr>\n",
              "    <tr>\n",
              "      <th>6975</th>\n",
              "      <td>66427</td>\n",
              "      <td>My Name Is Bruce (2007)</td>\n",
              "      <td>Comedy|Horror</td>\n",
              "    </tr>\n",
              "  </tbody>\n",
              "</table>\n",
              "</div>"
            ],
            "text/plain": [
              "     movieId  ...                      genres\n",
              "2239    2974  ...             Horror|Thriller\n",
              "2720    3652  ...                      Horror\n",
              "2883    3857  ...                    Thriller\n",
              "3086    4143  ...              Horror|Mystery\n",
              "4092    5853  ...      Horror|Sci-Fi|Thriller\n",
              "4373    6405  ...          Adventure|Children\n",
              "4707    7024  ...                       Drama\n",
              "5140    8241  ...      Action|Comedy|Thriller\n",
              "5341    8906  ...                      Horror\n",
              "5518   26523  ...             Horror|Thriller\n",
              "5564   26736  ...       Action|Crime|Thriller\n",
              "5766   31193  ...  Animation|Children|Musical\n",
              "5877   33132  ...          Action|Crime|Drama\n",
              "6027   38992  ...                       Drama\n",
              "6124   43549  ...   Action|Crime|Drama|Horror\n",
              "6378   50147  ...      Action|Horror|Thriller\n",
              "6385   50440  ...             Horror|Thriller\n",
              "6399   50800  ...       Drama|Horror|Thriller\n",
              "6679   57910  ...               Comedy|Horror\n",
              "6975   66427  ...               Comedy|Horror\n",
              "\n",
              "[20 rows x 3 columns]"
            ]
          },
          "metadata": {
            "tags": []
          },
          "execution_count": 79
        }
      ]
    },
    {
      "cell_type": "markdown",
      "metadata": {
        "id": "IKlqOwcJvutc",
        "colab_type": "text"
      },
      "source": [
        "##User 3"
      ]
    },
    {
      "cell_type": "code",
      "metadata": {
        "id": "HwJrddnDuFVH",
        "colab_type": "code",
        "colab": {
          "base_uri": "https://localhost:8080/",
          "height": 51
        },
        "outputId": "76f26f74-23d4-49d0-8ff2-ad3d4cb13869"
      },
      "source": [
        "movies[movies['movieId']=='3578'].title"
      ],
      "execution_count": 84,
      "outputs": [
        {
          "output_type": "execute_result",
          "data": {
            "text/plain": [
              "2674    Gladiator (2000)\n",
              "Name: title, dtype: object"
            ]
          },
          "metadata": {
            "tags": []
          },
          "execution_count": 84
        }
      ]
    },
    {
      "cell_type": "code",
      "metadata": {
        "id": "KgrKqkA9vx0M",
        "colab_type": "code",
        "colab": {
          "base_uri": "https://localhost:8080/",
          "height": 360
        },
        "outputId": "c49af094-f837-4b43-e3d7-286239ca3117"
      },
      "source": [
        "recMovieIdUser3 = pred('Gladiator (2000)')"
      ],
      "execution_count": 86,
      "outputs": [
        {
          "output_type": "stream",
          "text": [
            "Punisher, The (2004)|7439, with distance of 0.593134389983557\n",
            "Alien: Resurrection (1997)|1690, with distance of 0.5869296966227997\n",
            "Antitrust (2001)|4052, with distance of 0.5860022174397568\n",
            "28 Weeks Later (2007)|53000, with distance of 0.585189367969372\n",
            "Evolution (2001)|4343, with distance of 0.5833276373139393\n",
            "Pitch Black (2000)|3300, with distance of 0.5824988048113962\n",
            "Ninth Gate, The (1999)|3355, with distance of 0.578314019599964\n",
            "Gremlins (1984)|2003, with distance of 0.5753826736356247\n",
            "Mariachi, El (1992)|3267, with distance of 0.5742400415017564\n",
            "Resident Evil (2002)|5219, with distance of 0.5622399121740249\n",
            "Silent Hill (2006)|45081, with distance of 0.562053333947105\n",
            "Pi (1998)|1921, with distance of 0.5606781811228129\n",
            "Doom (2005)|37380, with distance of 0.5585705126202524\n",
            "American Psycho (2000)|3535, with distance of 0.5533301351754519\n",
            "Cabin in the Woods, The (2012)|93840, with distance of 0.5528046155325\n",
            "Boondock Saints, The (2000)|3275, with distance of 0.5459922672100452\n",
            "Machete (2010)|80219, with distance of 0.5455282622250337\n",
            "Battle Royale (Batoru rowaiaru) (2000)|7022, with distance of 0.5362868107862162\n",
            "AVP: Alien vs. Predator (2004)|8810, with distance of 0.5282193351030933\n",
            "Cube (1997)|2232, with distance of 0.0\n"
          ],
          "name": "stdout"
        }
      ]
    },
    {
      "cell_type": "code",
      "metadata": {
        "id": "XddJPV13vzu9",
        "colab_type": "code",
        "colab": {
          "base_uri": "https://localhost:8080/",
          "height": 666
        },
        "outputId": "ac90b792-1215-4b33-c943-01df41317576"
      },
      "source": [
        "movies[movies['movieId'].isin(recMovieIdUser3)]"
      ],
      "execution_count": 87,
      "outputs": [
        {
          "output_type": "execute_result",
          "data": {
            "text/html": [
              "<div>\n",
              "<style scoped>\n",
              "    .dataframe tbody tr th:only-of-type {\n",
              "        vertical-align: middle;\n",
              "    }\n",
              "\n",
              "    .dataframe tbody tr th {\n",
              "        vertical-align: top;\n",
              "    }\n",
              "\n",
              "    .dataframe thead th {\n",
              "        text-align: right;\n",
              "    }\n",
              "</style>\n",
              "<table border=\"1\" class=\"dataframe\">\n",
              "  <thead>\n",
              "    <tr style=\"text-align: right;\">\n",
              "      <th></th>\n",
              "      <th>movieId</th>\n",
              "      <th>title</th>\n",
              "      <th>genres</th>\n",
              "    </tr>\n",
              "  </thead>\n",
              "  <tbody>\n",
              "    <tr>\n",
              "      <th>1275</th>\n",
              "      <td>1690</td>\n",
              "      <td>Alien: Resurrection (1997)</td>\n",
              "      <td>Action|Horror|Sci-Fi</td>\n",
              "    </tr>\n",
              "    <tr>\n",
              "      <th>1402</th>\n",
              "      <td>1921</td>\n",
              "      <td>Pi (1998)</td>\n",
              "      <td>Drama|Sci-Fi|Thriller</td>\n",
              "    </tr>\n",
              "    <tr>\n",
              "      <th>1478</th>\n",
              "      <td>2003</td>\n",
              "      <td>Gremlins (1984)</td>\n",
              "      <td>Comedy|Horror</td>\n",
              "    </tr>\n",
              "    <tr>\n",
              "      <th>1662</th>\n",
              "      <td>2232</td>\n",
              "      <td>Cube (1997)</td>\n",
              "      <td>Horror|Mystery|Sci-Fi|Thriller</td>\n",
              "    </tr>\n",
              "    <tr>\n",
              "      <th>2454</th>\n",
              "      <td>3267</td>\n",
              "      <td>Mariachi, El (1992)</td>\n",
              "      <td>Action|Crime|Thriller|Western</td>\n",
              "    </tr>\n",
              "    <tr>\n",
              "      <th>2462</th>\n",
              "      <td>3275</td>\n",
              "      <td>Boondock Saints, The (2000)</td>\n",
              "      <td>Action|Crime|Drama|Thriller</td>\n",
              "    </tr>\n",
              "    <tr>\n",
              "      <th>2477</th>\n",
              "      <td>3300</td>\n",
              "      <td>Pitch Black (2000)</td>\n",
              "      <td>Horror|Sci-Fi|Thriller</td>\n",
              "    </tr>\n",
              "    <tr>\n",
              "      <th>2508</th>\n",
              "      <td>3355</td>\n",
              "      <td>Ninth Gate, The (1999)</td>\n",
              "      <td>Fantasy|Horror|Mystery|Thriller</td>\n",
              "    </tr>\n",
              "    <tr>\n",
              "      <th>2641</th>\n",
              "      <td>3535</td>\n",
              "      <td>American Psycho (2000)</td>\n",
              "      <td>Crime|Horror|Mystery|Thriller</td>\n",
              "    </tr>\n",
              "    <tr>\n",
              "      <th>3028</th>\n",
              "      <td>4052</td>\n",
              "      <td>Antitrust (2001)</td>\n",
              "      <td>Crime|Drama|Thriller</td>\n",
              "    </tr>\n",
              "    <tr>\n",
              "      <th>3216</th>\n",
              "      <td>4343</td>\n",
              "      <td>Evolution (2001)</td>\n",
              "      <td>Comedy|Sci-Fi</td>\n",
              "    </tr>\n",
              "    <tr>\n",
              "      <th>3746</th>\n",
              "      <td>5219</td>\n",
              "      <td>Resident Evil (2002)</td>\n",
              "      <td>Action|Horror|Sci-Fi|Thriller</td>\n",
              "    </tr>\n",
              "    <tr>\n",
              "      <th>4705</th>\n",
              "      <td>7022</td>\n",
              "      <td>Battle Royale (Batoru rowaiaru) (2000)</td>\n",
              "      <td>Action|Drama|Horror|Thriller</td>\n",
              "    </tr>\n",
              "    <tr>\n",
              "      <th>4936</th>\n",
              "      <td>7439</td>\n",
              "      <td>Punisher, The (2004)</td>\n",
              "      <td>Action|Crime|Thriller</td>\n",
              "    </tr>\n",
              "    <tr>\n",
              "      <th>5312</th>\n",
              "      <td>8810</td>\n",
              "      <td>AVP: Alien vs. Predator (2004)</td>\n",
              "      <td>Action|Horror|Sci-Fi|Thriller</td>\n",
              "    </tr>\n",
              "    <tr>\n",
              "      <th>5994</th>\n",
              "      <td>37380</td>\n",
              "      <td>Doom (2005)</td>\n",
              "      <td>Action|Horror|Sci-Fi</td>\n",
              "    </tr>\n",
              "    <tr>\n",
              "      <th>6195</th>\n",
              "      <td>45081</td>\n",
              "      <td>Silent Hill (2006)</td>\n",
              "      <td>Fantasy|Horror|Thriller</td>\n",
              "    </tr>\n",
              "    <tr>\n",
              "      <th>6483</th>\n",
              "      <td>53000</td>\n",
              "      <td>28 Weeks Later (2007)</td>\n",
              "      <td>Horror|Sci-Fi|Thriller</td>\n",
              "    </tr>\n",
              "    <tr>\n",
              "      <th>7409</th>\n",
              "      <td>80219</td>\n",
              "      <td>Machete (2010)</td>\n",
              "      <td>Action|Adventure|Comedy|Crime|Thriller</td>\n",
              "    </tr>\n",
              "    <tr>\n",
              "      <th>7859</th>\n",
              "      <td>93840</td>\n",
              "      <td>Cabin in the Woods, The (2012)</td>\n",
              "      <td>Comedy|Horror|Sci-Fi|Thriller</td>\n",
              "    </tr>\n",
              "  </tbody>\n",
              "</table>\n",
              "</div>"
            ],
            "text/plain": [
              "     movieId  ...                                  genres\n",
              "1275    1690  ...                    Action|Horror|Sci-Fi\n",
              "1402    1921  ...                   Drama|Sci-Fi|Thriller\n",
              "1478    2003  ...                           Comedy|Horror\n",
              "1662    2232  ...          Horror|Mystery|Sci-Fi|Thriller\n",
              "2454    3267  ...           Action|Crime|Thriller|Western\n",
              "2462    3275  ...             Action|Crime|Drama|Thriller\n",
              "2477    3300  ...                  Horror|Sci-Fi|Thriller\n",
              "2508    3355  ...         Fantasy|Horror|Mystery|Thriller\n",
              "2641    3535  ...           Crime|Horror|Mystery|Thriller\n",
              "3028    4052  ...                    Crime|Drama|Thriller\n",
              "3216    4343  ...                           Comedy|Sci-Fi\n",
              "3746    5219  ...           Action|Horror|Sci-Fi|Thriller\n",
              "4705    7022  ...            Action|Drama|Horror|Thriller\n",
              "4936    7439  ...                   Action|Crime|Thriller\n",
              "5312    8810  ...           Action|Horror|Sci-Fi|Thriller\n",
              "5994   37380  ...                    Action|Horror|Sci-Fi\n",
              "6195   45081  ...                 Fantasy|Horror|Thriller\n",
              "6483   53000  ...                  Horror|Sci-Fi|Thriller\n",
              "7409   80219  ...  Action|Adventure|Comedy|Crime|Thriller\n",
              "7859   93840  ...           Comedy|Horror|Sci-Fi|Thriller\n",
              "\n",
              "[20 rows x 3 columns]"
            ]
          },
          "metadata": {
            "tags": []
          },
          "execution_count": 87
        }
      ]
    },
    {
      "cell_type": "code",
      "metadata": {
        "id": "SEZjH1zmv3vf",
        "colab_type": "code",
        "colab": {}
      },
      "source": [
        ""
      ],
      "execution_count": 0,
      "outputs": []
    }
  ]
}