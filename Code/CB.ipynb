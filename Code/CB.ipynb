{
  "nbformat": 4,
  "nbformat_minor": 0,
  "metadata": {
    "colab": {
      "name": "CB.ipynb",
      "provenance": [],
      "collapsed_sections": [],
      "toc_visible": true,
      "machine_shape": "hm"
    },
    "kernelspec": {
      "name": "python3",
      "display_name": "Python 3"
    }
  },
  "cells": [
    {
      "cell_type": "code",
      "metadata": {
        "id": "pofN2aNN3tEb",
        "colab_type": "code",
        "colab": {}
      },
      "source": [
        "import pandas as pd\n",
        "import numpy as np\n",
        "import matplotlib.pyplot as plt"
      ],
      "execution_count": 0,
      "outputs": []
    },
    {
      "cell_type": "code",
      "metadata": {
        "id": "Jj8jCGeh4tKQ",
        "colab_type": "code",
        "colab": {}
      },
      "source": [
        "#links = pd.read_csv('links.csv')\n",
        "movies = pd.read_csv('movies.csv')\n",
        "ratings = pd.read_csv('ratings.csv')\n",
        "#tags = pd.read_csv('tags.csv')"
      ],
      "execution_count": 0,
      "outputs": []
    },
    {
      "cell_type": "code",
      "metadata": {
        "id": "426ZciLZ_YGK",
        "colab_type": "code",
        "outputId": "103a110f-1da2-49eb-af61-f9ab8fa2381d",
        "colab": {
          "base_uri": "https://localhost:8080/",
          "height": 34
        }
      },
      "source": [
        "movies.shape"
      ],
      "execution_count": 3,
      "outputs": [
        {
          "output_type": "execute_result",
          "data": {
            "text/plain": [
              "(9742, 3)"
            ]
          },
          "metadata": {
            "tags": []
          },
          "execution_count": 3
        }
      ]
    },
    {
      "cell_type": "code",
      "metadata": {
        "id": "EGK_CsMYR0ua",
        "colab_type": "code",
        "colab": {}
      },
      "source": [
        "ratings['userId'] = ratings['userId'].astype('str')\n",
        "ratings['movieId'] = ratings['movieId'].astype('str')\n",
        "movies['movieId'] = movies['movieId'].astype('str')"
      ],
      "execution_count": 0,
      "outputs": []
    },
    {
      "cell_type": "markdown",
      "metadata": {
        "id": "YeOfb33ceCW9",
        "colab_type": "text"
      },
      "source": [
        "# Statistics of the dataset"
      ]
    },
    {
      "cell_type": "code",
      "metadata": {
        "id": "YFrKLZFz5CMh",
        "colab_type": "code",
        "outputId": "6196672b-6e1f-4f7c-9b7c-706841f13bca",
        "colab": {
          "base_uri": "https://localhost:8080/",
          "height": 51
        }
      },
      "source": [
        "userId = ratings.userId.unique()\n",
        "movieId = ratings.movieId.unique()\n",
        "num_users = len(userId)\n",
        "num_items =len(movieId)\n",
        "print('number of unique users:', num_users)\n",
        "print('number of unique movies:', num_items)"
      ],
      "execution_count": 5,
      "outputs": [
        {
          "output_type": "stream",
          "text": [
            "number of unique users: 610\n",
            "number of unique movies: 9724\n"
          ],
          "name": "stdout"
        }
      ]
    },
    {
      "cell_type": "code",
      "metadata": {
        "id": "4DEh3sBI5SDH",
        "colab_type": "code",
        "outputId": "1e6442d9-1867-45dc-c6d6-34df8feba675",
        "colab": {
          "base_uri": "https://localhost:8080/",
          "height": 34
        }
      },
      "source": [
        "sparsity = 1 - len(ratings) / (num_users * num_items)\n",
        "print('matrix sparsity:',sparsity)"
      ],
      "execution_count": 6,
      "outputs": [
        {
          "output_type": "stream",
          "text": [
            "matrix sparsity: 0.9830003169443864\n"
          ],
          "name": "stdout"
        }
      ]
    },
    {
      "cell_type": "code",
      "metadata": {
        "id": "aKZevfV4OBhA",
        "colab_type": "code",
        "colab": {}
      },
      "source": [
        "#Number of movies rated by each user.\n",
        "numMoviesRatedByUser = ratings.groupby(['userId']).size().reset_index()"
      ],
      "execution_count": 0,
      "outputs": []
    },
    {
      "cell_type": "code",
      "metadata": {
        "id": "E9dHDygsO5_6",
        "colab_type": "code",
        "outputId": "f3166599-6f25-40eb-f92a-70459dddf97f",
        "colab": {
          "base_uri": "https://localhost:8080/",
          "height": 417
        }
      },
      "source": [
        "numMoviesRatedByUser.sort_values(by=0, ascending=True)"
      ],
      "execution_count": 8,
      "outputs": [
        {
          "output_type": "execute_result",
          "data": {
            "text/html": [
              "<div>\n",
              "<style scoped>\n",
              "    .dataframe tbody tr th:only-of-type {\n",
              "        vertical-align: middle;\n",
              "    }\n",
              "\n",
              "    .dataframe tbody tr th {\n",
              "        vertical-align: top;\n",
              "    }\n",
              "\n",
              "    .dataframe thead th {\n",
              "        text-align: right;\n",
              "    }\n",
              "</style>\n",
              "<table border=\"1\" class=\"dataframe\">\n",
              "  <thead>\n",
              "    <tr style=\"text-align: right;\">\n",
              "      <th></th>\n",
              "      <th>userId</th>\n",
              "      <th>0</th>\n",
              "    </tr>\n",
              "  </thead>\n",
              "  <tbody>\n",
              "    <tr>\n",
              "      <th>175</th>\n",
              "      <td>257</td>\n",
              "      <td>20</td>\n",
              "    </tr>\n",
              "    <tr>\n",
              "      <th>105</th>\n",
              "      <td>194</td>\n",
              "      <td>20</td>\n",
              "    </tr>\n",
              "    <tr>\n",
              "      <th>529</th>\n",
              "      <td>576</td>\n",
              "      <td>20</td>\n",
              "    </tr>\n",
              "    <tr>\n",
              "      <th>521</th>\n",
              "      <td>569</td>\n",
              "      <td>20</td>\n",
              "    </tr>\n",
              "    <tr>\n",
              "      <th>120</th>\n",
              "      <td>207</td>\n",
              "      <td>20</td>\n",
              "    </tr>\n",
              "    <tr>\n",
              "      <th>...</th>\n",
              "      <td>...</td>\n",
              "      <td>...</td>\n",
              "    </tr>\n",
              "    <tr>\n",
              "      <th>194</th>\n",
              "      <td>274</td>\n",
              "      <td>1346</td>\n",
              "    </tr>\n",
              "    <tr>\n",
              "      <th>387</th>\n",
              "      <td>448</td>\n",
              "      <td>1864</td>\n",
              "    </tr>\n",
              "    <tr>\n",
              "      <th>416</th>\n",
              "      <td>474</td>\n",
              "      <td>2108</td>\n",
              "    </tr>\n",
              "    <tr>\n",
              "      <th>554</th>\n",
              "      <td>599</td>\n",
              "      <td>2478</td>\n",
              "    </tr>\n",
              "    <tr>\n",
              "      <th>350</th>\n",
              "      <td>414</td>\n",
              "      <td>2698</td>\n",
              "    </tr>\n",
              "  </tbody>\n",
              "</table>\n",
              "<p>610 rows × 2 columns</p>\n",
              "</div>"
            ],
            "text/plain": [
              "    userId     0\n",
              "175    257    20\n",
              "105    194    20\n",
              "529    576    20\n",
              "521    569    20\n",
              "120    207    20\n",
              "..     ...   ...\n",
              "194    274  1346\n",
              "387    448  1864\n",
              "416    474  2108\n",
              "554    599  2478\n",
              "350    414  2698\n",
              "\n",
              "[610 rows x 2 columns]"
            ]
          },
          "metadata": {
            "tags": []
          },
          "execution_count": 8
        }
      ]
    },
    {
      "cell_type": "markdown",
      "metadata": {
        "id": "FC2AiTEH50XZ",
        "colab_type": "text"
      },
      "source": [
        "# Content Based"
      ]
    },
    {
      "cell_type": "markdown",
      "metadata": {
        "id": "rGTioBoL2O8m",
        "colab_type": "text"
      },
      "source": [
        "## TF-IDF"
      ]
    },
    {
      "cell_type": "code",
      "metadata": {
        "id": "F7L8Jpmb2RF_",
        "colab_type": "code",
        "colab": {}
      },
      "source": [
        "movies.genres = movies.genres.str.split('|')"
      ],
      "execution_count": 0,
      "outputs": []
    },
    {
      "cell_type": "code",
      "metadata": {
        "id": "Q1-v5anT20tF",
        "colab_type": "code",
        "outputId": "74e78578-c910-4e2a-97c6-6674bc2c37b3",
        "colab": {
          "base_uri": "https://localhost:8080/",
          "height": 203
        }
      },
      "source": [
        "movies.head()"
      ],
      "execution_count": 10,
      "outputs": [
        {
          "output_type": "execute_result",
          "data": {
            "text/html": [
              "<div>\n",
              "<style scoped>\n",
              "    .dataframe tbody tr th:only-of-type {\n",
              "        vertical-align: middle;\n",
              "    }\n",
              "\n",
              "    .dataframe tbody tr th {\n",
              "        vertical-align: top;\n",
              "    }\n",
              "\n",
              "    .dataframe thead th {\n",
              "        text-align: right;\n",
              "    }\n",
              "</style>\n",
              "<table border=\"1\" class=\"dataframe\">\n",
              "  <thead>\n",
              "    <tr style=\"text-align: right;\">\n",
              "      <th></th>\n",
              "      <th>movieId</th>\n",
              "      <th>title</th>\n",
              "      <th>genres</th>\n",
              "    </tr>\n",
              "  </thead>\n",
              "  <tbody>\n",
              "    <tr>\n",
              "      <th>0</th>\n",
              "      <td>1</td>\n",
              "      <td>Toy Story (1995)</td>\n",
              "      <td>[Adventure, Animation, Children, Comedy, Fantasy]</td>\n",
              "    </tr>\n",
              "    <tr>\n",
              "      <th>1</th>\n",
              "      <td>2</td>\n",
              "      <td>Jumanji (1995)</td>\n",
              "      <td>[Adventure, Children, Fantasy]</td>\n",
              "    </tr>\n",
              "    <tr>\n",
              "      <th>2</th>\n",
              "      <td>3</td>\n",
              "      <td>Grumpier Old Men (1995)</td>\n",
              "      <td>[Comedy, Romance]</td>\n",
              "    </tr>\n",
              "    <tr>\n",
              "      <th>3</th>\n",
              "      <td>4</td>\n",
              "      <td>Waiting to Exhale (1995)</td>\n",
              "      <td>[Comedy, Drama, Romance]</td>\n",
              "    </tr>\n",
              "    <tr>\n",
              "      <th>4</th>\n",
              "      <td>5</td>\n",
              "      <td>Father of the Bride Part II (1995)</td>\n",
              "      <td>[Comedy]</td>\n",
              "    </tr>\n",
              "  </tbody>\n",
              "</table>\n",
              "</div>"
            ],
            "text/plain": [
              "  movieId  ...                                             genres\n",
              "0       1  ...  [Adventure, Animation, Children, Comedy, Fantasy]\n",
              "1       2  ...                     [Adventure, Children, Fantasy]\n",
              "2       3  ...                                  [Comedy, Romance]\n",
              "3       4  ...                           [Comedy, Drama, Romance]\n",
              "4       5  ...                                           [Comedy]\n",
              "\n",
              "[5 rows x 3 columns]"
            ]
          },
          "metadata": {
            "tags": []
          },
          "execution_count": 10
        }
      ]
    },
    {
      "cell_type": "code",
      "metadata": {
        "id": "aF6KoHXg29dJ",
        "colab_type": "code",
        "outputId": "8c0fc1ad-98fe-4109-c028-359164946239",
        "colab": {
          "base_uri": "https://localhost:8080/",
          "height": 203
        }
      },
      "source": [
        "movies.genres = movies.genres.fillna(\"\").astype('str')\n",
        "movies.head()"
      ],
      "execution_count": 11,
      "outputs": [
        {
          "output_type": "execute_result",
          "data": {
            "text/html": [
              "<div>\n",
              "<style scoped>\n",
              "    .dataframe tbody tr th:only-of-type {\n",
              "        vertical-align: middle;\n",
              "    }\n",
              "\n",
              "    .dataframe tbody tr th {\n",
              "        vertical-align: top;\n",
              "    }\n",
              "\n",
              "    .dataframe thead th {\n",
              "        text-align: right;\n",
              "    }\n",
              "</style>\n",
              "<table border=\"1\" class=\"dataframe\">\n",
              "  <thead>\n",
              "    <tr style=\"text-align: right;\">\n",
              "      <th></th>\n",
              "      <th>movieId</th>\n",
              "      <th>title</th>\n",
              "      <th>genres</th>\n",
              "    </tr>\n",
              "  </thead>\n",
              "  <tbody>\n",
              "    <tr>\n",
              "      <th>0</th>\n",
              "      <td>1</td>\n",
              "      <td>Toy Story (1995)</td>\n",
              "      <td>['Adventure', 'Animation', 'Children', 'Comedy...</td>\n",
              "    </tr>\n",
              "    <tr>\n",
              "      <th>1</th>\n",
              "      <td>2</td>\n",
              "      <td>Jumanji (1995)</td>\n",
              "      <td>['Adventure', 'Children', 'Fantasy']</td>\n",
              "    </tr>\n",
              "    <tr>\n",
              "      <th>2</th>\n",
              "      <td>3</td>\n",
              "      <td>Grumpier Old Men (1995)</td>\n",
              "      <td>['Comedy', 'Romance']</td>\n",
              "    </tr>\n",
              "    <tr>\n",
              "      <th>3</th>\n",
              "      <td>4</td>\n",
              "      <td>Waiting to Exhale (1995)</td>\n",
              "      <td>['Comedy', 'Drama', 'Romance']</td>\n",
              "    </tr>\n",
              "    <tr>\n",
              "      <th>4</th>\n",
              "      <td>5</td>\n",
              "      <td>Father of the Bride Part II (1995)</td>\n",
              "      <td>['Comedy']</td>\n",
              "    </tr>\n",
              "  </tbody>\n",
              "</table>\n",
              "</div>"
            ],
            "text/plain": [
              "  movieId  ...                                             genres\n",
              "0       1  ...  ['Adventure', 'Animation', 'Children', 'Comedy...\n",
              "1       2  ...               ['Adventure', 'Children', 'Fantasy']\n",
              "2       3  ...                              ['Comedy', 'Romance']\n",
              "3       4  ...                     ['Comedy', 'Drama', 'Romance']\n",
              "4       5  ...                                         ['Comedy']\n",
              "\n",
              "[5 rows x 3 columns]"
            ]
          },
          "metadata": {
            "tags": []
          },
          "execution_count": 11
        }
      ]
    },
    {
      "cell_type": "code",
      "metadata": {
        "id": "wpv2xZ165flm",
        "colab_type": "code",
        "outputId": "482c445e-fdc6-412a-9cb4-76a69e9f0418",
        "colab": {
          "base_uri": "https://localhost:8080/",
          "height": 34
        }
      },
      "source": [
        "from sklearn.feature_extraction.text import TfidfVectorizer\n",
        "tf = TfidfVectorizer(analyzer='word',ngram_range=(1, 2),min_df=0, stop_words='english')\n",
        "tfidf_matrix = tf.fit_transform(movies['genres'])\n",
        "tfidf_matrix.shape"
      ],
      "execution_count": 12,
      "outputs": [
        {
          "output_type": "execute_result",
          "data": {
            "text/plain": [
              "(9742, 177)"
            ]
          },
          "metadata": {
            "tags": []
          },
          "execution_count": 12
        }
      ]
    },
    {
      "cell_type": "code",
      "metadata": {
        "id": "Gy1HLgnK_BoX",
        "colab_type": "code",
        "outputId": "2b25d35a-3e62-4a8e-a85e-8b7dc36d4c27",
        "colab": {
          "base_uri": "https://localhost:8080/",
          "height": 51
        }
      },
      "source": [
        "tfidf_matrix"
      ],
      "execution_count": 13,
      "outputs": [
        {
          "output_type": "execute_result",
          "data": {
            "text/plain": [
              "<9742x177 sparse matrix of type '<class 'numpy.float64'>'\n",
              "\twith 36628 stored elements in Compressed Sparse Row format>"
            ]
          },
          "metadata": {
            "tags": []
          },
          "execution_count": 13
        }
      ]
    },
    {
      "cell_type": "code",
      "metadata": {
        "id": "RhcanCpO-DRC",
        "colab_type": "code",
        "outputId": "26268f22-6548-498e-8a8a-7303b453feaf",
        "colab": {
          "base_uri": "https://localhost:8080/",
          "height": 54
        }
      },
      "source": [
        "print(tf.get_feature_names())"
      ],
      "execution_count": 14,
      "outputs": [
        {
          "output_type": "stream",
          "text": [
            "['action', 'action adventure', 'action animation', 'action children', 'action comedy', 'action crime', 'action documentary', 'action drama', 'action fantasy', 'action horror', 'action imax', 'action mystery', 'action romance', 'action sci', 'action thriller', 'action war', 'action western', 'adventure', 'adventure animation', 'adventure children', 'adventure comedy', 'adventure crime', 'adventure documentary', 'adventure drama', 'adventure fantasy', 'adventure film', 'adventure horror', 'adventure mystery', 'adventure romance', 'adventure sci', 'adventure thriller', 'adventure war', 'adventure western', 'animation', 'animation children', 'animation comedy', 'animation crime', 'animation documentary', 'animation drama', 'animation fantasy', 'animation film', 'animation horror', 'animation musical', 'animation mystery', 'animation romance', 'animation sci', 'children', 'children comedy', 'children crime', 'children documentary', 'children drama', 'children fantasy', 'children horror', 'children imax', 'children musical', 'children mystery', 'children romance', 'children sci', 'children western', 'comedy', 'comedy crime', 'comedy documentary', 'comedy drama', 'comedy fantasy', 'comedy horror', 'comedy imax', 'comedy musical', 'comedy mystery', 'comedy romance', 'comedy sci', 'comedy thriller', 'comedy war', 'comedy western', 'crime', 'crime documentary', 'crime drama', 'crime fantasy', 'crime film', 'crime horror', 'crime imax', 'crime musical', 'crime mystery', 'crime romance', 'crime sci', 'crime thriller', 'crime western', 'documentary', 'documentary drama', 'documentary fantasy', 'documentary horror', 'documentary imax', 'documentary musical', 'documentary mystery', 'documentary romance', 'documentary war', 'documentary western', 'drama', 'drama fantasy', 'drama film', 'drama horror', 'drama imax', 'drama musical', 'drama mystery', 'drama romance', 'drama sci', 'drama thriller', 'drama war', 'drama western', 'fantasy', 'fantasy film', 'fantasy horror', 'fantasy imax', 'fantasy musical', 'fantasy mystery', 'fantasy romance', 'fantasy sci', 'fantasy thriller', 'fantasy war', 'fantasy western', 'fi', 'fi imax', 'fi thriller', 'fi war', 'fi western', 'film', 'film noir', 'genres', 'genres listed', 'horror', 'horror imax', 'horror musical', 'horror mystery', 'horror romance', 'horror sci', 'horror thriller', 'horror war', 'horror western', 'imax', 'listed', 'musical', 'musical imax', 'musical mystery', 'musical romance', 'musical sci', 'musical thriller', 'musical war', 'musical western', 'mystery', 'mystery imax', 'mystery romance', 'mystery sci', 'mystery thriller', 'mystery war', 'mystery western', 'noir', 'noir horror', 'noir mystery', 'noir romance', 'noir sci', 'noir thriller', 'romance', 'romance imax', 'romance sci', 'romance thriller', 'romance war', 'romance western', 'sci', 'sci fi', 'thriller', 'thriller imax', 'thriller war', 'thriller western', 'war', 'war imax', 'war western', 'western', 'western imax']\n"
          ],
          "name": "stdout"
        }
      ]
    },
    {
      "cell_type": "markdown",
      "metadata": {
        "id": "FinSBJHyK6UC",
        "colab_type": "text"
      },
      "source": [
        "## Cosine Similarity"
      ]
    },
    {
      "cell_type": "code",
      "metadata": {
        "id": "G6sanoxKCuqq",
        "colab_type": "code",
        "colab": {}
      },
      "source": [
        "from sklearn.metrics.pairwise import cosine_similarity\n",
        "sim = cosine_similarity(tfidf_matrix)"
      ],
      "execution_count": 0,
      "outputs": []
    },
    {
      "cell_type": "code",
      "metadata": {
        "id": "kJgviE02DMzL",
        "colab_type": "code",
        "outputId": "e250625a-f47b-4285-833c-eb9035b44039",
        "colab": {
          "base_uri": "https://localhost:8080/",
          "height": 34
        }
      },
      "source": [
        "sim.shape"
      ],
      "execution_count": 16,
      "outputs": [
        {
          "output_type": "execute_result",
          "data": {
            "text/plain": [
              "(9742, 9742)"
            ]
          },
          "metadata": {
            "tags": []
          },
          "execution_count": 16
        }
      ]
    },
    {
      "cell_type": "code",
      "metadata": {
        "id": "SdIjp6HXDZq4",
        "colab_type": "code",
        "outputId": "da8e56f5-de93-4f8c-eafe-f7213570e653",
        "colab": {
          "base_uri": "https://localhost:8080/",
          "height": 86
        }
      },
      "source": [
        "sim[:4, :4]"
      ],
      "execution_count": 17,
      "outputs": [
        {
          "output_type": "execute_result",
          "data": {
            "text/plain": [
              "array([[1.        , 0.31379419, 0.0611029 , 0.05271111],\n",
              "       [0.31379419, 1.        , 0.        , 0.        ],\n",
              "       [0.0611029 , 0.        , 1.        , 0.35172407],\n",
              "       [0.05271111, 0.        , 0.35172407, 1.        ]])"
            ]
          },
          "metadata": {
            "tags": []
          },
          "execution_count": 17
        }
      ]
    },
    {
      "cell_type": "markdown",
      "metadata": {
        "id": "ZyX7LePi_jhc",
        "colab_type": "text"
      },
      "source": [
        "##Predictions"
      ]
    },
    {
      "cell_type": "code",
      "metadata": {
        "id": "NkKSJWNUDmbz",
        "colab_type": "code",
        "colab": {}
      },
      "source": [
        "# Build a 1-dimensional array with movie titles\n",
        "titles = movies['title']\n",
        "indices = pd.Series(movies.index, index=movies['title'])"
      ],
      "execution_count": 0,
      "outputs": []
    },
    {
      "cell_type": "code",
      "metadata": {
        "id": "m1-ei05bEQKv",
        "colab_type": "code",
        "colab": {}
      },
      "source": [
        "# get movie recommendations based on the cosine similarity score of movie genres\n",
        "def pred(title):\n",
        "  # get the index number for the title.\n",
        "  idx = indices[title]\n",
        "  #get the row for thar idx as a list.\n",
        "  sim_scores = list(enumerate(sim[idx]))\n",
        "  # sort the list.\n",
        "  sim_scores = sorted(sim_scores, key=lambda x: x[1], reverse=True)\n",
        "  # get the top 10 score indices.\n",
        "  topScores = sim_scores[1:11]\n",
        "  # get the movie index\n",
        "  movie_indices = [i[0] for i in topScores]\n",
        "  return movies.iloc[movie_indices], movie_indices"
      ],
      "execution_count": 0,
      "outputs": []
    },
    {
      "cell_type": "markdown",
      "metadata": {
        "id": "ZzkrAI6OBZ1f",
        "colab_type": "text"
      },
      "source": [
        "#Case Study\n"
      ]
    },
    {
      "cell_type": "markdown",
      "metadata": {
        "id": "4nGLOe10Bbon",
        "colab_type": "text"
      },
      "source": [
        "##User 1\n"
      ]
    },
    {
      "cell_type": "code",
      "metadata": {
        "id": "dMCTD78gDnz9",
        "colab_type": "code",
        "colab": {}
      },
      "source": [
        "simMoviesU1, simMovieIndexpredU1 = pred('Dragonheart (1996)')"
      ],
      "execution_count": 0,
      "outputs": []
    },
    {
      "cell_type": "code",
      "metadata": {
        "id": "8heaK7WGCA3t",
        "colab_type": "code",
        "colab": {
          "base_uri": "https://localhost:8080/",
          "height": 357
        },
        "outputId": "e9cf84f3-8796-40d0-cca2-0ec4f1474d59"
      },
      "source": [
        "simMoviesU1"
      ],
      "execution_count": 21,
      "outputs": [
        {
          "output_type": "execute_result",
          "data": {
            "text/html": [
              "<div>\n",
              "<style scoped>\n",
              "    .dataframe tbody tr th:only-of-type {\n",
              "        vertical-align: middle;\n",
              "    }\n",
              "\n",
              "    .dataframe tbody tr th {\n",
              "        vertical-align: top;\n",
              "    }\n",
              "\n",
              "    .dataframe thead th {\n",
              "        text-align: right;\n",
              "    }\n",
              "</style>\n",
              "<table border=\"1\" class=\"dataframe\">\n",
              "  <thead>\n",
              "    <tr style=\"text-align: right;\">\n",
              "      <th></th>\n",
              "      <th>movieId</th>\n",
              "      <th>title</th>\n",
              "      <th>genres</th>\n",
              "    </tr>\n",
              "  </thead>\n",
              "  <tbody>\n",
              "    <tr>\n",
              "      <th>349</th>\n",
              "      <td>393</td>\n",
              "      <td>Street Fighter (1994)</td>\n",
              "      <td>['Action', 'Adventure', 'Fantasy']</td>\n",
              "    </tr>\n",
              "    <tr>\n",
              "      <th>549</th>\n",
              "      <td>653</td>\n",
              "      <td>Dragonheart (1996)</td>\n",
              "      <td>['Action', 'Adventure', 'Fantasy']</td>\n",
              "    </tr>\n",
              "    <tr>\n",
              "      <th>974</th>\n",
              "      <td>1275</td>\n",
              "      <td>Highlander (1986)</td>\n",
              "      <td>['Action', 'Adventure', 'Fantasy']</td>\n",
              "    </tr>\n",
              "    <tr>\n",
              "      <th>1190</th>\n",
              "      <td>1587</td>\n",
              "      <td>Conan the Barbarian (1982)</td>\n",
              "      <td>['Action', 'Adventure', 'Fantasy']</td>\n",
              "    </tr>\n",
              "    <tr>\n",
              "      <th>1266</th>\n",
              "      <td>1681</td>\n",
              "      <td>Mortal Kombat: Annihilation (1997)</td>\n",
              "      <td>['Action', 'Adventure', 'Fantasy']</td>\n",
              "    </tr>\n",
              "    <tr>\n",
              "      <th>1576</th>\n",
              "      <td>2115</td>\n",
              "      <td>Indiana Jones and the Temple of Doom (1984)</td>\n",
              "      <td>['Action', 'Adventure', 'Fantasy']</td>\n",
              "    </tr>\n",
              "    <tr>\n",
              "      <th>1644</th>\n",
              "      <td>2193</td>\n",
              "      <td>Willow (1988)</td>\n",
              "      <td>['Action', 'Adventure', 'Fantasy']</td>\n",
              "    </tr>\n",
              "    <tr>\n",
              "      <th>1775</th>\n",
              "      <td>2373</td>\n",
              "      <td>Red Sonja (1985)</td>\n",
              "      <td>['Action', 'Adventure', 'Fantasy']</td>\n",
              "    </tr>\n",
              "    <tr>\n",
              "      <th>2126</th>\n",
              "      <td>2826</td>\n",
              "      <td>13th Warrior, The (1999)</td>\n",
              "      <td>['Action', 'Adventure', 'Fantasy']</td>\n",
              "    </tr>\n",
              "    <tr>\n",
              "      <th>2376</th>\n",
              "      <td>3153</td>\n",
              "      <td>7th Voyage of Sinbad, The (1958)</td>\n",
              "      <td>['Action', 'Adventure', 'Fantasy']</td>\n",
              "    </tr>\n",
              "  </tbody>\n",
              "</table>\n",
              "</div>"
            ],
            "text/plain": [
              "     movieId  ...                              genres\n",
              "349      393  ...  ['Action', 'Adventure', 'Fantasy']\n",
              "549      653  ...  ['Action', 'Adventure', 'Fantasy']\n",
              "974     1275  ...  ['Action', 'Adventure', 'Fantasy']\n",
              "1190    1587  ...  ['Action', 'Adventure', 'Fantasy']\n",
              "1266    1681  ...  ['Action', 'Adventure', 'Fantasy']\n",
              "1576    2115  ...  ['Action', 'Adventure', 'Fantasy']\n",
              "1644    2193  ...  ['Action', 'Adventure', 'Fantasy']\n",
              "1775    2373  ...  ['Action', 'Adventure', 'Fantasy']\n",
              "2126    2826  ...  ['Action', 'Adventure', 'Fantasy']\n",
              "2376    3153  ...  ['Action', 'Adventure', 'Fantasy']\n",
              "\n",
              "[10 rows x 3 columns]"
            ]
          },
          "metadata": {
            "tags": []
          },
          "execution_count": 21
        }
      ]
    },
    {
      "cell_type": "markdown",
      "metadata": {
        "id": "BcfHclo_BfTc",
        "colab_type": "text"
      },
      "source": [
        "## User 2"
      ]
    },
    {
      "cell_type": "code",
      "metadata": {
        "id": "gIzqTReeDzi6",
        "colab_type": "code",
        "colab": {}
      },
      "source": [
        "simMoviesU2, simMovieIndexpredU2 = pred('What Happens in Vegas... (2008)')"
      ],
      "execution_count": 0,
      "outputs": []
    },
    {
      "cell_type": "code",
      "metadata": {
        "id": "SDt3A8MPCP2p",
        "colab_type": "code",
        "colab": {
          "base_uri": "https://localhost:8080/",
          "height": 357
        },
        "outputId": "481f53a1-530a-495c-e14b-4b45ecd4bc0b"
      },
      "source": [
        "simMoviesU2"
      ],
      "execution_count": 23,
      "outputs": [
        {
          "output_type": "execute_result",
          "data": {
            "text/html": [
              "<div>\n",
              "<style scoped>\n",
              "    .dataframe tbody tr th:only-of-type {\n",
              "        vertical-align: middle;\n",
              "    }\n",
              "\n",
              "    .dataframe tbody tr th {\n",
              "        vertical-align: top;\n",
              "    }\n",
              "\n",
              "    .dataframe thead th {\n",
              "        text-align: right;\n",
              "    }\n",
              "</style>\n",
              "<table border=\"1\" class=\"dataframe\">\n",
              "  <thead>\n",
              "    <tr style=\"text-align: right;\">\n",
              "      <th></th>\n",
              "      <th>movieId</th>\n",
              "      <th>title</th>\n",
              "      <th>genres</th>\n",
              "    </tr>\n",
              "  </thead>\n",
              "  <tbody>\n",
              "    <tr>\n",
              "      <th>6</th>\n",
              "      <td>7</td>\n",
              "      <td>Sabrina (1995)</td>\n",
              "      <td>['Comedy', 'Romance']</td>\n",
              "    </tr>\n",
              "    <tr>\n",
              "      <th>35</th>\n",
              "      <td>39</td>\n",
              "      <td>Clueless (1995)</td>\n",
              "      <td>['Comedy', 'Romance']</td>\n",
              "    </tr>\n",
              "    <tr>\n",
              "      <th>57</th>\n",
              "      <td>64</td>\n",
              "      <td>Two if by Sea (1996)</td>\n",
              "      <td>['Comedy', 'Romance']</td>\n",
              "    </tr>\n",
              "    <tr>\n",
              "      <th>60</th>\n",
              "      <td>68</td>\n",
              "      <td>French Twist (Gazon maudit) (1995)</td>\n",
              "      <td>['Comedy', 'Romance']</td>\n",
              "    </tr>\n",
              "    <tr>\n",
              "      <th>103</th>\n",
              "      <td>118</td>\n",
              "      <td>If Lucy Fell (1996)</td>\n",
              "      <td>['Comedy', 'Romance']</td>\n",
              "    </tr>\n",
              "    <tr>\n",
              "      <th>106</th>\n",
              "      <td>122</td>\n",
              "      <td>Boomerang (1992)</td>\n",
              "      <td>['Comedy', 'Romance']</td>\n",
              "    </tr>\n",
              "    <tr>\n",
              "      <th>111</th>\n",
              "      <td>129</td>\n",
              "      <td>Pie in the Sky (1996)</td>\n",
              "      <td>['Comedy', 'Romance']</td>\n",
              "    </tr>\n",
              "    <tr>\n",
              "      <th>152</th>\n",
              "      <td>180</td>\n",
              "      <td>Mallrats (1995)</td>\n",
              "      <td>['Comedy', 'Romance']</td>\n",
              "    </tr>\n",
              "    <tr>\n",
              "      <th>157</th>\n",
              "      <td>186</td>\n",
              "      <td>Nine Months (1995)</td>\n",
              "      <td>['Comedy', 'Romance']</td>\n",
              "    </tr>\n",
              "    <tr>\n",
              "      <th>203</th>\n",
              "      <td>237</td>\n",
              "      <td>Forget Paris (1995)</td>\n",
              "      <td>['Comedy', 'Romance']</td>\n",
              "    </tr>\n",
              "  </tbody>\n",
              "</table>\n",
              "</div>"
            ],
            "text/plain": [
              "    movieId                               title                 genres\n",
              "6         7                      Sabrina (1995)  ['Comedy', 'Romance']\n",
              "35       39                     Clueless (1995)  ['Comedy', 'Romance']\n",
              "57       64                Two if by Sea (1996)  ['Comedy', 'Romance']\n",
              "60       68  French Twist (Gazon maudit) (1995)  ['Comedy', 'Romance']\n",
              "103     118                 If Lucy Fell (1996)  ['Comedy', 'Romance']\n",
              "106     122                    Boomerang (1992)  ['Comedy', 'Romance']\n",
              "111     129               Pie in the Sky (1996)  ['Comedy', 'Romance']\n",
              "152     180                     Mallrats (1995)  ['Comedy', 'Romance']\n",
              "157     186                  Nine Months (1995)  ['Comedy', 'Romance']\n",
              "203     237                 Forget Paris (1995)  ['Comedy', 'Romance']"
            ]
          },
          "metadata": {
            "tags": []
          },
          "execution_count": 23
        }
      ]
    },
    {
      "cell_type": "markdown",
      "metadata": {
        "id": "23iTTU-BBhEe",
        "colab_type": "text"
      },
      "source": [
        "##User 3"
      ]
    },
    {
      "cell_type": "code",
      "metadata": {
        "id": "hFXR8ZPhBwEU",
        "colab_type": "code",
        "colab": {}
      },
      "source": [
        "simMoviesU3, simMovieIndexpredU3 = pred('Gladiator (2000)')"
      ],
      "execution_count": 0,
      "outputs": []
    },
    {
      "cell_type": "code",
      "metadata": {
        "id": "V3AKCEPKCRRa",
        "colab_type": "code",
        "colab": {
          "base_uri": "https://localhost:8080/",
          "height": 357
        },
        "outputId": "1863495a-cdd1-4f36-e26f-3cebdc887497"
      },
      "source": [
        "simMoviesU3"
      ],
      "execution_count": 25,
      "outputs": [
        {
          "output_type": "execute_result",
          "data": {
            "text/html": [
              "<div>\n",
              "<style scoped>\n",
              "    .dataframe tbody tr th:only-of-type {\n",
              "        vertical-align: middle;\n",
              "    }\n",
              "\n",
              "    .dataframe tbody tr th {\n",
              "        vertical-align: top;\n",
              "    }\n",
              "\n",
              "    .dataframe thead th {\n",
              "        text-align: right;\n",
              "    }\n",
              "</style>\n",
              "<table border=\"1\" class=\"dataframe\">\n",
              "  <thead>\n",
              "    <tr style=\"text-align: right;\">\n",
              "      <th></th>\n",
              "      <th>movieId</th>\n",
              "      <th>title</th>\n",
              "      <th>genres</th>\n",
              "    </tr>\n",
              "  </thead>\n",
              "  <tbody>\n",
              "    <tr>\n",
              "      <th>986</th>\n",
              "      <td>1287</td>\n",
              "      <td>Ben-Hur (1959)</td>\n",
              "      <td>['Action', 'Adventure', 'Drama']</td>\n",
              "    </tr>\n",
              "    <tr>\n",
              "      <th>1331</th>\n",
              "      <td>1801</td>\n",
              "      <td>Man in the Iron Mask, The (1998)</td>\n",
              "      <td>['Action', 'Adventure', 'Drama']</td>\n",
              "    </tr>\n",
              "    <tr>\n",
              "      <th>1488</th>\n",
              "      <td>2013</td>\n",
              "      <td>Poseidon Adventure, The (1972)</td>\n",
              "      <td>['Action', 'Adventure', 'Drama']</td>\n",
              "    </tr>\n",
              "    <tr>\n",
              "      <th>1494</th>\n",
              "      <td>2019</td>\n",
              "      <td>Seven Samurai (Shichinin no samurai) (1954)</td>\n",
              "      <td>['Action', 'Adventure', 'Drama']</td>\n",
              "    </tr>\n",
              "    <tr>\n",
              "      <th>1772</th>\n",
              "      <td>2370</td>\n",
              "      <td>Emerald Forest, The (1985)</td>\n",
              "      <td>['Action', 'Adventure', 'Drama']</td>\n",
              "    </tr>\n",
              "    <tr>\n",
              "      <th>1821</th>\n",
              "      <td>2421</td>\n",
              "      <td>Karate Kid, Part II, The (1986)</td>\n",
              "      <td>['Action', 'Adventure', 'Drama']</td>\n",
              "    </tr>\n",
              "    <tr>\n",
              "      <th>2177</th>\n",
              "      <td>2893</td>\n",
              "      <td>Plunkett &amp; MaCleane (1999)</td>\n",
              "      <td>['Action', 'Adventure', 'Drama']</td>\n",
              "    </tr>\n",
              "    <tr>\n",
              "      <th>2187</th>\n",
              "      <td>2905</td>\n",
              "      <td>Sanjuro (Tsubaki Sanjûrô) (1962)</td>\n",
              "      <td>['Action', 'Adventure', 'Drama']</td>\n",
              "    </tr>\n",
              "    <tr>\n",
              "      <th>2674</th>\n",
              "      <td>3578</td>\n",
              "      <td>Gladiator (2000)</td>\n",
              "      <td>['Action', 'Adventure', 'Drama']</td>\n",
              "    </tr>\n",
              "    <tr>\n",
              "      <th>4391</th>\n",
              "      <td>6448</td>\n",
              "      <td>Flight of the Phoenix, The (1965)</td>\n",
              "      <td>['Action', 'Adventure', 'Drama']</td>\n",
              "    </tr>\n",
              "  </tbody>\n",
              "</table>\n",
              "</div>"
            ],
            "text/plain": [
              "     movieId  ...                            genres\n",
              "986     1287  ...  ['Action', 'Adventure', 'Drama']\n",
              "1331    1801  ...  ['Action', 'Adventure', 'Drama']\n",
              "1488    2013  ...  ['Action', 'Adventure', 'Drama']\n",
              "1494    2019  ...  ['Action', 'Adventure', 'Drama']\n",
              "1772    2370  ...  ['Action', 'Adventure', 'Drama']\n",
              "1821    2421  ...  ['Action', 'Adventure', 'Drama']\n",
              "2177    2893  ...  ['Action', 'Adventure', 'Drama']\n",
              "2187    2905  ...  ['Action', 'Adventure', 'Drama']\n",
              "2674    3578  ...  ['Action', 'Adventure', 'Drama']\n",
              "4391    6448  ...  ['Action', 'Adventure', 'Drama']\n",
              "\n",
              "[10 rows x 3 columns]"
            ]
          },
          "metadata": {
            "tags": []
          },
          "execution_count": 25
        }
      ]
    },
    {
      "cell_type": "markdown",
      "metadata": {
        "id": "z08xFS-B3hRR",
        "colab_type": "text"
      },
      "source": [
        "#Evaluation"
      ]
    },
    {
      "cell_type": "code",
      "metadata": {
        "id": "rG04kjlN3iaL",
        "colab_type": "code",
        "colab": {}
      },
      "source": [
        "user1 = ratings.loc[ratings.userId=='1']"
      ],
      "execution_count": 0,
      "outputs": []
    },
    {
      "cell_type": "code",
      "metadata": {
        "id": "jqzFd2c-31Dn",
        "colab_type": "code",
        "colab": {}
      },
      "source": [
        "# all movies that user has rated.\n",
        "user1 = user1.merge(movies, how='left', on='movieId')"
      ],
      "execution_count": 0,
      "outputs": []
    },
    {
      "cell_type": "code",
      "metadata": {
        "id": "4yqYyz6q4Cir",
        "colab_type": "code",
        "colab": {}
      },
      "source": [
        "user1.movieId = user1.movieId.astype(int)"
      ],
      "execution_count": 0,
      "outputs": []
    },
    {
      "cell_type": "code",
      "metadata": {
        "id": "XK7prqIr6Thf",
        "colab_type": "code",
        "outputId": "5a8efd8b-cbaa-40ea-cb40-d8b1af103ed8",
        "colab": {
          "base_uri": "https://localhost:8080/",
          "height": 417
        }
      },
      "source": [
        "# all movies that user has rated.\n",
        "user1"
      ],
      "execution_count": 29,
      "outputs": [
        {
          "output_type": "execute_result",
          "data": {
            "text/html": [
              "<div>\n",
              "<style scoped>\n",
              "    .dataframe tbody tr th:only-of-type {\n",
              "        vertical-align: middle;\n",
              "    }\n",
              "\n",
              "    .dataframe tbody tr th {\n",
              "        vertical-align: top;\n",
              "    }\n",
              "\n",
              "    .dataframe thead th {\n",
              "        text-align: right;\n",
              "    }\n",
              "</style>\n",
              "<table border=\"1\" class=\"dataframe\">\n",
              "  <thead>\n",
              "    <tr style=\"text-align: right;\">\n",
              "      <th></th>\n",
              "      <th>userId</th>\n",
              "      <th>movieId</th>\n",
              "      <th>rating</th>\n",
              "      <th>timestamp</th>\n",
              "      <th>title</th>\n",
              "      <th>genres</th>\n",
              "    </tr>\n",
              "  </thead>\n",
              "  <tbody>\n",
              "    <tr>\n",
              "      <th>0</th>\n",
              "      <td>1</td>\n",
              "      <td>1</td>\n",
              "      <td>4.0</td>\n",
              "      <td>964982703</td>\n",
              "      <td>Toy Story (1995)</td>\n",
              "      <td>['Adventure', 'Animation', 'Children', 'Comedy...</td>\n",
              "    </tr>\n",
              "    <tr>\n",
              "      <th>1</th>\n",
              "      <td>1</td>\n",
              "      <td>3</td>\n",
              "      <td>4.0</td>\n",
              "      <td>964981247</td>\n",
              "      <td>Grumpier Old Men (1995)</td>\n",
              "      <td>['Comedy', 'Romance']</td>\n",
              "    </tr>\n",
              "    <tr>\n",
              "      <th>2</th>\n",
              "      <td>1</td>\n",
              "      <td>6</td>\n",
              "      <td>4.0</td>\n",
              "      <td>964982224</td>\n",
              "      <td>Heat (1995)</td>\n",
              "      <td>['Action', 'Crime', 'Thriller']</td>\n",
              "    </tr>\n",
              "    <tr>\n",
              "      <th>3</th>\n",
              "      <td>1</td>\n",
              "      <td>47</td>\n",
              "      <td>5.0</td>\n",
              "      <td>964983815</td>\n",
              "      <td>Seven (a.k.a. Se7en) (1995)</td>\n",
              "      <td>['Mystery', 'Thriller']</td>\n",
              "    </tr>\n",
              "    <tr>\n",
              "      <th>4</th>\n",
              "      <td>1</td>\n",
              "      <td>50</td>\n",
              "      <td>5.0</td>\n",
              "      <td>964982931</td>\n",
              "      <td>Usual Suspects, The (1995)</td>\n",
              "      <td>['Crime', 'Mystery', 'Thriller']</td>\n",
              "    </tr>\n",
              "    <tr>\n",
              "      <th>...</th>\n",
              "      <td>...</td>\n",
              "      <td>...</td>\n",
              "      <td>...</td>\n",
              "      <td>...</td>\n",
              "      <td>...</td>\n",
              "      <td>...</td>\n",
              "    </tr>\n",
              "    <tr>\n",
              "      <th>227</th>\n",
              "      <td>1</td>\n",
              "      <td>3744</td>\n",
              "      <td>4.0</td>\n",
              "      <td>964980694</td>\n",
              "      <td>Shaft (2000)</td>\n",
              "      <td>['Action', 'Crime', 'Thriller']</td>\n",
              "    </tr>\n",
              "    <tr>\n",
              "      <th>228</th>\n",
              "      <td>1</td>\n",
              "      <td>3793</td>\n",
              "      <td>5.0</td>\n",
              "      <td>964981855</td>\n",
              "      <td>X-Men (2000)</td>\n",
              "      <td>['Action', 'Adventure', 'Sci-Fi']</td>\n",
              "    </tr>\n",
              "    <tr>\n",
              "      <th>229</th>\n",
              "      <td>1</td>\n",
              "      <td>3809</td>\n",
              "      <td>4.0</td>\n",
              "      <td>964981220</td>\n",
              "      <td>What About Bob? (1991)</td>\n",
              "      <td>['Comedy']</td>\n",
              "    </tr>\n",
              "    <tr>\n",
              "      <th>230</th>\n",
              "      <td>1</td>\n",
              "      <td>4006</td>\n",
              "      <td>4.0</td>\n",
              "      <td>964982903</td>\n",
              "      <td>Transformers: The Movie (1986)</td>\n",
              "      <td>['Adventure', 'Animation', 'Children', 'Sci-Fi']</td>\n",
              "    </tr>\n",
              "    <tr>\n",
              "      <th>231</th>\n",
              "      <td>1</td>\n",
              "      <td>5060</td>\n",
              "      <td>5.0</td>\n",
              "      <td>964984002</td>\n",
              "      <td>M*A*S*H (a.k.a. MASH) (1970)</td>\n",
              "      <td>['Comedy', 'Drama', 'War']</td>\n",
              "    </tr>\n",
              "  </tbody>\n",
              "</table>\n",
              "<p>232 rows × 6 columns</p>\n",
              "</div>"
            ],
            "text/plain": [
              "    userId  ...                                             genres\n",
              "0        1  ...  ['Adventure', 'Animation', 'Children', 'Comedy...\n",
              "1        1  ...                              ['Comedy', 'Romance']\n",
              "2        1  ...                    ['Action', 'Crime', 'Thriller']\n",
              "3        1  ...                            ['Mystery', 'Thriller']\n",
              "4        1  ...                   ['Crime', 'Mystery', 'Thriller']\n",
              "..     ...  ...                                                ...\n",
              "227      1  ...                    ['Action', 'Crime', 'Thriller']\n",
              "228      1  ...                  ['Action', 'Adventure', 'Sci-Fi']\n",
              "229      1  ...                                         ['Comedy']\n",
              "230      1  ...   ['Adventure', 'Animation', 'Children', 'Sci-Fi']\n",
              "231      1  ...                         ['Comedy', 'Drama', 'War']\n",
              "\n",
              "[232 rows x 6 columns]"
            ]
          },
          "metadata": {
            "tags": []
          },
          "execution_count": 29
        }
      ]
    },
    {
      "cell_type": "code",
      "metadata": {
        "id": "wsKJoAK14DSH",
        "colab_type": "code",
        "outputId": "7d5cb934-9150-448b-9b0a-9b3a9a00ab41",
        "colab": {
          "base_uri": "https://localhost:8080/",
          "height": 357
        }
      },
      "source": [
        "simMovies, simMovieIndex = pred('Toy Story (1995)')\n",
        "simMovies.head(10)"
      ],
      "execution_count": 30,
      "outputs": [
        {
          "output_type": "execute_result",
          "data": {
            "text/html": [
              "<div>\n",
              "<style scoped>\n",
              "    .dataframe tbody tr th:only-of-type {\n",
              "        vertical-align: middle;\n",
              "    }\n",
              "\n",
              "    .dataframe tbody tr th {\n",
              "        vertical-align: top;\n",
              "    }\n",
              "\n",
              "    .dataframe thead th {\n",
              "        text-align: right;\n",
              "    }\n",
              "</style>\n",
              "<table border=\"1\" class=\"dataframe\">\n",
              "  <thead>\n",
              "    <tr style=\"text-align: right;\">\n",
              "      <th></th>\n",
              "      <th>movieId</th>\n",
              "      <th>title</th>\n",
              "      <th>genres</th>\n",
              "    </tr>\n",
              "  </thead>\n",
              "  <tbody>\n",
              "    <tr>\n",
              "      <th>1706</th>\n",
              "      <td>2294</td>\n",
              "      <td>Antz (1998)</td>\n",
              "      <td>['Adventure', 'Animation', 'Children', 'Comedy...</td>\n",
              "    </tr>\n",
              "    <tr>\n",
              "      <th>2355</th>\n",
              "      <td>3114</td>\n",
              "      <td>Toy Story 2 (1999)</td>\n",
              "      <td>['Adventure', 'Animation', 'Children', 'Comedy...</td>\n",
              "    </tr>\n",
              "    <tr>\n",
              "      <th>2809</th>\n",
              "      <td>3754</td>\n",
              "      <td>Adventures of Rocky and Bullwinkle, The (2000)</td>\n",
              "      <td>['Adventure', 'Animation', 'Children', 'Comedy...</td>\n",
              "    </tr>\n",
              "    <tr>\n",
              "      <th>3000</th>\n",
              "      <td>4016</td>\n",
              "      <td>Emperor's New Groove, The (2000)</td>\n",
              "      <td>['Adventure', 'Animation', 'Children', 'Comedy...</td>\n",
              "    </tr>\n",
              "    <tr>\n",
              "      <th>3568</th>\n",
              "      <td>4886</td>\n",
              "      <td>Monsters, Inc. (2001)</td>\n",
              "      <td>['Adventure', 'Animation', 'Children', 'Comedy...</td>\n",
              "    </tr>\n",
              "    <tr>\n",
              "      <th>6194</th>\n",
              "      <td>45074</td>\n",
              "      <td>Wild, The (2006)</td>\n",
              "      <td>['Adventure', 'Animation', 'Children', 'Comedy...</td>\n",
              "    </tr>\n",
              "    <tr>\n",
              "      <th>6486</th>\n",
              "      <td>53121</td>\n",
              "      <td>Shrek the Third (2007)</td>\n",
              "      <td>['Adventure', 'Animation', 'Children', 'Comedy...</td>\n",
              "    </tr>\n",
              "    <tr>\n",
              "      <th>6948</th>\n",
              "      <td>65577</td>\n",
              "      <td>Tale of Despereaux, The (2008)</td>\n",
              "      <td>['Adventure', 'Animation', 'Children', 'Comedy...</td>\n",
              "    </tr>\n",
              "    <tr>\n",
              "      <th>7760</th>\n",
              "      <td>91355</td>\n",
              "      <td>Asterix and the Vikings (Astérix et les Viking...</td>\n",
              "      <td>['Adventure', 'Animation', 'Children', 'Comedy...</td>\n",
              "    </tr>\n",
              "    <tr>\n",
              "      <th>8219</th>\n",
              "      <td>103755</td>\n",
              "      <td>Turbo (2013)</td>\n",
              "      <td>['Adventure', 'Animation', 'Children', 'Comedy...</td>\n",
              "    </tr>\n",
              "  </tbody>\n",
              "</table>\n",
              "</div>"
            ],
            "text/plain": [
              "     movieId  ...                                             genres\n",
              "1706    2294  ...  ['Adventure', 'Animation', 'Children', 'Comedy...\n",
              "2355    3114  ...  ['Adventure', 'Animation', 'Children', 'Comedy...\n",
              "2809    3754  ...  ['Adventure', 'Animation', 'Children', 'Comedy...\n",
              "3000    4016  ...  ['Adventure', 'Animation', 'Children', 'Comedy...\n",
              "3568    4886  ...  ['Adventure', 'Animation', 'Children', 'Comedy...\n",
              "6194   45074  ...  ['Adventure', 'Animation', 'Children', 'Comedy...\n",
              "6486   53121  ...  ['Adventure', 'Animation', 'Children', 'Comedy...\n",
              "6948   65577  ...  ['Adventure', 'Animation', 'Children', 'Comedy...\n",
              "7760   91355  ...  ['Adventure', 'Animation', 'Children', 'Comedy...\n",
              "8219  103755  ...  ['Adventure', 'Animation', 'Children', 'Comedy...\n",
              "\n",
              "[10 rows x 3 columns]"
            ]
          },
          "metadata": {
            "tags": []
          },
          "execution_count": 30
        }
      ]
    },
    {
      "cell_type": "code",
      "metadata": {
        "id": "fdGI-mZo4rrc",
        "colab_type": "code",
        "colab": {
          "base_uri": "https://localhost:8080/",
          "height": 34
        },
        "outputId": "fca2eb00-3cdb-420b-daf7-7a21df8006dd"
      },
      "source": [
        "simMovieIndex"
      ],
      "execution_count": 31,
      "outputs": [
        {
          "output_type": "execute_result",
          "data": {
            "text/plain": [
              "[1706, 2355, 2809, 3000, 3568, 6194, 6486, 6948, 7760, 8219]"
            ]
          },
          "metadata": {
            "tags": []
          },
          "execution_count": 31
        }
      ]
    },
    {
      "cell_type": "code",
      "metadata": {
        "id": "78e1oI3e4sqG",
        "colab_type": "code",
        "colab": {}
      },
      "source": [
        "for i, row in user1.iterrows():\n",
        "  if(row.movieId in simMovieIndex):\n",
        "    print(row)"
      ],
      "execution_count": 0,
      "outputs": []
    },
    {
      "cell_type": "code",
      "metadata": {
        "id": "PEyfRt3y4zmO",
        "colab_type": "code",
        "outputId": "46f563a7-ddee-4370-8995-16d1c7d994e1",
        "colab": {
          "base_uri": "https://localhost:8080/",
          "height": 48
        }
      },
      "source": [
        "user1.loc[user1.movieId == 6194]"
      ],
      "execution_count": 33,
      "outputs": [
        {
          "output_type": "execute_result",
          "data": {
            "text/html": [
              "<div>\n",
              "<style scoped>\n",
              "    .dataframe tbody tr th:only-of-type {\n",
              "        vertical-align: middle;\n",
              "    }\n",
              "\n",
              "    .dataframe tbody tr th {\n",
              "        vertical-align: top;\n",
              "    }\n",
              "\n",
              "    .dataframe thead th {\n",
              "        text-align: right;\n",
              "    }\n",
              "</style>\n",
              "<table border=\"1\" class=\"dataframe\">\n",
              "  <thead>\n",
              "    <tr style=\"text-align: right;\">\n",
              "      <th></th>\n",
              "      <th>userId</th>\n",
              "      <th>movieId</th>\n",
              "      <th>rating</th>\n",
              "      <th>timestamp</th>\n",
              "      <th>title</th>\n",
              "      <th>genres</th>\n",
              "    </tr>\n",
              "  </thead>\n",
              "  <tbody>\n",
              "  </tbody>\n",
              "</table>\n",
              "</div>"
            ],
            "text/plain": [
              "Empty DataFrame\n",
              "Columns: [userId, movieId, rating, timestamp, title, genres]\n",
              "Index: []"
            ]
          },
          "metadata": {
            "tags": []
          },
          "execution_count": 33
        }
      ]
    }
  ]
}